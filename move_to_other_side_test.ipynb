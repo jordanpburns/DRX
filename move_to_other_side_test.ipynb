{
 "cells": [
  {
   "cell_type": "code",
   "execution_count": 1,
   "metadata": {},
   "outputs": [
    {
     "name": "stderr",
     "output_type": "stream",
     "text": [
      "/Users/jordanburns/miniconda3/envs/dev/lib/python3.7/site-packages/pymatgen/io/cif.py:44: UserWarning: Please install optional dependency pybtex if youwant to extract references from CIF files.\n",
      "  warnings.warn(\"Please install optional dependency pybtex if you\"\n"
     ]
    }
   ],
   "source": [
    "from pymatgen import Structure, MPRester, Lattice\n",
    "# from math import sin, cos, sqrt, pi\n",
    "from pymatgen.core.surface import SlabGenerator, Slab\n",
    "from pymatgen.vis.structure_vtk import StructureVis\n",
    "from atomate.vasp.fireworks.core import OptimizeFW\n",
    "from pymatgen.symmetry.analyzer import SpacegroupAnalyzer as sga\n",
    "mpr = MPRester('xGTZsWPN3BoydaL4')\n",
    "from pymatgen.io.vasp.inputs import Poscar"
   ]
  },
  {
   "cell_type": "code",
   "execution_count": 2,
   "metadata": {},
   "outputs": [],
   "source": [
    "# import Li2MnO3 structure from materials project \n",
    "struct = mpr.get_structure_by_material_id(\"mp-18988\", conventional_unit_cell=True)"
   ]
  },
  {
   "cell_type": "code",
   "execution_count": 3,
   "metadata": {},
   "outputs": [],
   "source": [
    "sga = sga(struct)"
   ]
  },
  {
   "cell_type": "code",
   "execution_count": 4,
   "metadata": {},
   "outputs": [],
   "source": [
    "struct_sym = sga.get_symmetrized_structure()"
   ]
  },
  {
   "cell_type": "code",
   "execution_count": 5,
   "metadata": {},
   "outputs": [
    {
     "name": "stdout",
     "output_type": "stream",
     "text": [
      "['4h', '2b', '2c', '4g', '8j', '4i']\n"
     ]
    }
   ],
   "source": [
    "wyckoff_symbols = struct_sym.wyckoff_symbols\n",
    "print(wyckoff_symbols)"
   ]
  },
  {
   "cell_type": "code",
   "execution_count": 6,
   "metadata": {},
   "outputs": [
    {
     "name": "stdout",
     "output_type": "stream",
     "text": [
      "['4h', '4h', '2b', '2c', '4h', '4h', '2b', '2c', '4g', '4g', '4g', '4g', '8j', '8j', '4i', '4i', '8j', '8j', '8j', '8j', '4i', '4i', '8j', '8j']\n"
     ]
    }
   ],
   "source": [
    "equiv_indices = struct_sym.equivalent_indices\n",
    "wyckoff_labels = ['']*len(struct_sym)\n",
    "for wyckoff_symbol, equiv_group in zip(wyckoff_symbols, equiv_indices):\n",
    "    for idx in equiv_group:\n",
    "        wyckoff_labels[idx] = wyckoff_symbol\n",
    "print(wyckoff_labels)"
   ]
  },
  {
   "cell_type": "code",
   "execution_count": 8,
   "metadata": {},
   "outputs": [],
   "source": [
    "struct_sym.add_site_property('wyckoff', wyckoff_labels)\n",
    "struct_sym = Structure.from_sites(struct_sym.sites)"
   ]
  },
  {
   "cell_type": "code",
   "execution_count": 9,
   "metadata": {},
   "outputs": [],
   "source": [
    "slabgen_wyckoff = SlabGenerator(struct_sym, [1,1,0], 10 , 10, in_unit_planes=True)\n",
    "slabs_wyckoff = slabgen_wyckoff.get_slabs()\n",
    "all_slabs_corrected_wyckoff = [slabgen_wyckoff.nonstoichiometric_symmetrized_slab(slab)\n",
    "                               for slab in slabs_wyckoff]\n",
    "all_slabs_corrected_wyckoff = sum(all_slabs_corrected_wyckoff, [])"
   ]
  },
  {
   "cell_type": "code",
   "execution_count": 10,
   "metadata": {},
   "outputs": [],
   "source": [
    "from pymatgen.analysis.bond_valence import BVAnalyzer\n",
    "bva_analyzer = BVAnalyzer()"
   ]
  },
  {
   "cell_type": "code",
   "execution_count": 11,
   "metadata": {},
   "outputs": [],
   "source": [
    "bva_struct = bva_analyzer.get_oxi_state_decorated_structure(struct_sym)"
   ]
  },
  {
   "cell_type": "code",
   "execution_count": 12,
   "metadata": {},
   "outputs": [],
   "source": [
    "slabgen_bva_before_sym = SlabGenerator(bva_struct, [1,1,0], 10 , 10, in_unit_planes=True)\n",
    "slabs_bva_before = slabgen_bva_before_sym.get_slabs()"
   ]
  },
  {
   "cell_type": "code",
   "execution_count": 14,
   "metadata": {},
   "outputs": [],
   "source": [
    "slabgen_bva = SlabGenerator(bva_struct, [1,1,0], 10 , 10, in_unit_planes=True)\n",
    "slabs_bva = slabgen_bva.get_slabs()\n",
    "all_slabs_corrected_bva = [slabgen_wyckoff.nonstoichiometric_symmetrized_slab(slab)\n",
    "                               for slab in slabs_bva]\n",
    "all_slabs_corrected_bva = sum(all_slabs_corrected_bva, [])"
   ]
  },
  {
   "cell_type": "code",
   "execution_count": 21,
   "metadata": {},
   "outputs": [],
   "source": [
    "move_struct = Structure.from_dict(slabs_bva_before[0].as_dict())"
   ]
  },
  {
   "cell_type": "code",
   "execution_count": 23,
   "metadata": {},
   "outputs": [],
   "source": [
    "move_struct_copy = move_struct.copy()"
   ]
  },
  {
   "cell_type": "code",
   "execution_count": 94,
   "metadata": {},
   "outputs": [],
   "source": [
    "surface_sites = slabs_bva_before[0].get_surface_sites()"
   ]
  },
  {
   "cell_type": "code",
   "execution_count": 22,
   "metadata": {},
   "outputs": [],
   "source": [
    "slabgen_move = SlabGenerator(move_struct, [1,1,0], 10, 10, in_unit_planes = True)"
   ]
  },
  {
   "cell_type": "code",
   "execution_count": 95,
   "metadata": {},
   "outputs": [],
   "source": [
    "moved = slabgen_move.move_to_other_side(slabs_bva_before[0],[surface_sites['top'][0][1]])"
   ]
  },
  {
   "cell_type": "code",
   "execution_count": 91,
   "metadata": {},
   "outputs": [],
   "source": [
    "new_surface_sites = moved.get_surface_sites()"
   ]
  },
  {
   "cell_type": "code",
   "execution_count": 92,
   "metadata": {},
   "outputs": [
    {
     "data": {
      "text/plain": [
       "{'top': [[PeriodicSite: Li+ (0.4911, 1.7227, 80.3645) [0.0399, 0.3431, 0.9686],\n",
       "   0],\n",
       "  [PeriodicSite: Li+ (4.7042, 4.4353, 81.0878) [0.7901, 0.8834, 0.9767], 2],\n",
       "  [PeriodicSite: Li+ (3.0472, 1.2973, 78.9850) [0.5651, 0.2584, 0.9517], 3],\n",
       "  [PeriodicSite: Li+ (0.5997, 0.8720, 77.5516) [0.0904, 0.1737, 0.9347], 5],\n",
       "  [PeriodicSite: Mn4+ (2.2116, 4.0175, 79.6787) [0.3061, 0.8002, 0.9600], 40],\n",
       "  [PeriodicSite: Mn4+ (2.1931, 4.8531, 82.4429) [0.2741, 0.9666, 0.9933], 41],\n",
       "  [PeriodicSite: Mn4+ (4.7326, 3.5980, 78.3181) [0.8241, 0.7166, 0.9433], 43],\n",
       "  [PeriodicSite: O2- (5.6159, 5.0163, 79.3043) [0.9527, 0.9991, 0.9550], 61],\n",
       "  [PeriodicSite: O2- (3.8185, 2.9397, 79.9078) [0.6637, 0.5855, 0.9626], 62],\n",
       "  [PeriodicSite: O2- (4.7400, 0.9102, 82.2410) [0.9165, 0.1813, 0.9907], 63],\n",
       "  [PeriodicSite: O2- (3.7925, 3.8543, 82.8712) [0.6276, 0.7677, 0.9983], 64],\n",
       "  [PeriodicSite: O2- (2.0706, 0.4441, 80.7322) [0.3988, 0.0885, 0.9729], 65],\n",
       "  [PeriodicSite: O2- (4.0237, 2.1506, 77.2378) [0.7314, 0.4283, 0.9305], 66],\n",
       "  [PeriodicSite: O2- (3.1258, 4.6757, 78.0889) [0.4665, 0.9313, 0.9407], 69],\n",
       "  [PeriodicSite: O2- (5.4600, 4.2097, 76.6341) [0.9488, 0.8385, 0.9229], 71]],\n",
       " 'bottom': [[PeriodicSite: Li+ (3.0638, 2.1272, 40.2523) [0.5404, 0.4237, 0.4847],\n",
       "   1],\n",
       "  [PeriodicSite: Li+ (5.0486, 1.2973, 45.8241) [0.9651, 0.2584, 0.5517], 35],\n",
       "  [PeriodicSite: Li+ (5.0320, 0.4675, 1.6007) [0.9899, 0.0931, 0.0186], 36],\n",
       "  [PeriodicSite: Li+ (2.6012, 0.8720, 44.3907) [0.4904, 0.1737, 0.5347], 37],\n",
       "  [PeriodicSite: Li+ (2.5845, 0.0422, 41.6454) [0.5151, 0.0084, 0.5017], 39],\n",
       "  [PeriodicSite: Mn4+ (1.7490, 2.7623, 42.3390) [0.2561, 0.5502, 0.5100], 58],\n",
       "  [PeriodicSite: O2- (1.4842, 3.4058, 39.8846) [0.1814, 0.6783, 0.4805], 60],\n",
       "  [PeriodicSite: O2- (1.3284, 2.5991, 37.2144) [0.1776, 0.5177, 0.4483], 70],\n",
       "  [PeriodicSite: O2- (1.0216, 2.1506, 44.0230) [0.1314, 0.4283, 0.5305], 114],\n",
       "  [PeriodicSite: O2- (5.1532, 3.7611, 41.9647) [0.9027, 0.7491, 0.5050], 115],\n",
       "  [PeriodicSite: O2- (3.3559, 1.6845, 42.5682) [0.6137, 0.3355, 0.5126], 116],\n",
       "  [PeriodicSite: O2- (5.1272, 4.6757, 44.9280) [0.8665, 0.9313, 0.5407], 117],\n",
       "  [PeriodicSite: O2- (2.4579, 4.2097, 43.4193) [0.3488, 0.8385, 0.5229], 119]]}"
      ]
     },
     "execution_count": 92,
     "metadata": {},
     "output_type": "execute_result"
    }
   ],
   "source": [
    "new_surface_sites  "
   ]
  },
  {
   "cell_type": "code",
   "execution_count": 90,
   "metadata": {},
   "outputs": [
    {
     "data": {
      "text/plain": [
       "array([-0.67043431, -0.21753195, 62.2091293 ])"
      ]
     },
     "execution_count": 90,
     "metadata": {},
     "output_type": "execute_result"
    }
   ],
   "source": [
    "moved = slabgen_move.move_to_other_side(moved,[70])\n",
    "moved.dipole"
   ]
  },
  {
   "cell_type": "code",
   "execution_count": 74,
   "metadata": {},
   "outputs": [
    {
     "data": {
      "text/plain": [
       "Li40 Mn20 O60\n",
       "1.0\n",
       "5.003584 0.000000 0.053924\n",
       "0.849877 5.020732 0.026716\n",
       "0.000000 0.000000 82.956154\n",
       "Li Mn O\n",
       "40 20 60\n",
       "direct\n",
       "0.039866 0.343113 0.468623 Li+\n",
       "0.540360 0.423679 0.484736 Li+\n",
       "0.790113 0.883396 0.476679 Li+\n",
       "0.565113 0.258396 0.451679 Li+\n",
       "0.589866 0.093113 0.918623 Li+\n",
       "0.090360 0.173679 0.934736 Li+\n",
       "0.340113 0.633396 0.926679 Li+\n",
       "0.115113 0.008396 0.901679 Li+\n",
       "0.139866 0.843113 0.868623 Li+\n",
       "0.640360 0.923679 0.884736 Li+\n",
       "0.890113 0.383396 0.876679 Li+\n",
       "0.665113 0.758396 0.851679 Li+\n",
       "0.689866 0.593113 0.818623 Li+\n",
       "0.190360 0.673679 0.834736 Li+\n",
       "0.440113 0.133396 0.826679 Li+\n",
       "0.215113 0.508396 0.801679 Li+\n",
       "0.239866 0.343113 0.768623 Li+\n",
       "0.740360 0.423679 0.784736 Li+\n",
       "0.990113 0.883396 0.776679 Li+\n",
       "0.765113 0.258396 0.751679 Li+\n",
       "0.789866 0.093113 0.718623 Li+\n",
       "0.290360 0.173679 0.734736 Li+\n",
       "0.540113 0.633396 0.726679 Li+\n",
       "0.315113 0.008396 0.701679 Li+\n",
       "0.339866 0.843113 0.668623 Li+\n",
       "0.840360 0.923679 0.684736 Li+\n",
       "0.090113 0.383396 0.676679 Li+\n",
       "0.865113 0.758396 0.651679 Li+\n",
       "0.889866 0.593113 0.618623 Li+\n",
       "0.390360 0.673679 0.634736 Li+\n",
       "0.640113 0.133396 0.626679 Li+\n",
       "0.415113 0.508396 0.601679 Li+\n",
       "0.439866 0.343113 0.568623 Li+\n",
       "0.940360 0.423679 0.584736 Li+\n",
       "0.190113 0.883396 0.576679 Li+\n",
       "0.965113 0.258396 0.551679 Li+\n",
       "0.989866 0.093113 0.518623 Li+\n",
       "0.490360 0.173679 0.534736 Li+\n",
       "0.740113 0.633396 0.526679 Li+\n",
       "0.515113 0.008396 0.501679 Li+\n",
       "0.306099 0.800172 0.960034 Mn4+\n",
       "0.274127 0.966620 0.993324 Mn4+\n",
       "0.856099 0.550172 0.910034 Mn4+\n",
       "0.824127 0.716620 0.943324 Mn4+\n",
       "0.406099 0.300172 0.860034 Mn4+\n",
       "0.374127 0.466620 0.893324 Mn4+\n",
       "0.956099 0.050172 0.810034 Mn4+\n",
       "0.924127 0.216620 0.843324 Mn4+\n",
       "0.506099 0.800172 0.760034 Mn4+\n",
       "0.474127 0.966620 0.793324 Mn4+\n",
       "0.056099 0.550172 0.710034 Mn4+\n",
       "0.024127 0.716620 0.743324 Mn4+\n",
       "0.606099 0.300172 0.660034 Mn4+\n",
       "0.574127 0.466620 0.693324 Mn4+\n",
       "0.156099 0.050172 0.610034 Mn4+\n",
       "0.124127 0.216620 0.643324 Mn4+\n",
       "0.706099 0.800172 0.560034 Mn4+\n",
       "0.674127 0.966620 0.593324 Mn4+\n",
       "0.256099 0.550172 0.510034 Mn4+\n",
       "0.224127 0.716620 0.543324 Mn4+\n",
       "0.181417 0.678338 0.980454 O2-\n",
       "0.952665 0.999122 0.955038 O2-\n",
       "0.663705 0.585507 0.962634 O2-\n",
       "0.916520 0.181285 0.990724 O2-\n",
       "0.627560 0.767670 0.998321 O2-\n",
       "0.398808 0.088454 0.972904 O2-\n",
       "0.731417 0.428338 0.930454 O2-\n",
       "0.502665 0.749122 0.905038 O2-\n",
       "0.213705 0.335507 0.912634 O2-\n",
       "0.466520 0.931285 0.940724 O2-\n",
       "0.177560 0.517670 0.948321 O2-\n",
       "0.948808 0.838454 0.922904 O2-\n",
       "0.281417 0.178338 0.880454 O2-\n",
       "0.052665 0.499122 0.855038 O2-\n",
       "0.763705 0.085507 0.862634 O2-\n",
       "0.016520 0.681285 0.890724 O2-\n",
       "0.727560 0.267670 0.898321 O2-\n",
       "0.498808 0.588454 0.872904 O2-\n",
       "0.831417 0.928338 0.830454 O2-\n",
       "0.602665 0.249122 0.805038 O2-\n",
       "0.313705 0.835507 0.812634 O2-\n",
       "0.566520 0.431285 0.840724 O2-\n",
       "0.277560 0.017670 0.848321 O2-\n",
       "0.048808 0.338454 0.822904 O2-\n",
       "0.381417 0.678338 0.780454 O2-\n",
       "0.152665 0.999122 0.755038 O2-\n",
       "0.863705 0.585507 0.762634 O2-\n",
       "0.116520 0.181285 0.790724 O2-\n",
       "0.827560 0.767670 0.798321 O2-\n",
       "0.598808 0.088454 0.772904 O2-\n",
       "0.931417 0.428338 0.730454 O2-\n",
       "0.702665 0.749122 0.705038 O2-\n",
       "0.413705 0.335507 0.712634 O2-\n",
       "0.666520 0.931285 0.740724 O2-\n",
       "0.377560 0.517670 0.748321 O2-\n",
       "0.148808 0.838454 0.722904 O2-\n",
       "0.481417 0.178338 0.680454 O2-\n",
       "0.252665 0.499122 0.655038 O2-\n",
       "0.963705 0.085507 0.662634 O2-\n",
       "0.216520 0.681285 0.690724 O2-\n",
       "0.927560 0.267670 0.698321 O2-\n",
       "0.698808 0.588454 0.672904 O2-\n",
       "0.031417 0.928338 0.630454 O2-\n",
       "0.802665 0.249122 0.605038 O2-\n",
       "0.513705 0.835507 0.612634 O2-\n",
       "0.766520 0.431285 0.640724 O2-\n",
       "0.477560 0.017670 0.648321 O2-\n",
       "0.248808 0.338454 0.622904 O2-\n",
       "0.581417 0.678338 0.580454 O2-\n",
       "0.352665 0.999122 0.555038 O2-\n",
       "0.063705 0.585507 0.562634 O2-\n",
       "0.316520 0.181285 0.590724 O2-\n",
       "0.027560 0.767670 0.598321 O2-\n",
       "0.798808 0.088454 0.572904 O2-\n",
       "0.131417 0.428338 0.530454 O2-\n",
       "0.902665 0.749122 0.505038 O2-\n",
       "0.613705 0.335507 0.512634 O2-\n",
       "0.866520 0.931285 0.540724 O2-\n",
       "0.577560 0.517670 0.548321 O2-\n",
       "0.348808 0.838454 0.522904 O2-"
      ]
     },
     "execution_count": 74,
     "metadata": {},
     "output_type": "execute_result"
    }
   ],
   "source": [
    "Poscar(moved)"
   ]
  },
  {
   "cell_type": "code",
   "execution_count": 93,
   "metadata": {},
   "outputs": [
    {
     "data": {
      "text/plain": [
       "array([  0.2234781 ,   0.07251065, -20.73637643])"
      ]
     },
     "execution_count": 93,
     "metadata": {},
     "output_type": "execute_result"
    }
   ],
   "source": [
    "slabs_bva_before[0].dipole"
   ]
  },
  {
   "cell_type": "code",
   "execution_count": 101,
   "metadata": {},
   "outputs": [],
   "source": [
    "moved64 = slabgen_move.move_to_other_side(slabs_bva_before[0],[64])"
   ]
  },
  {
   "cell_type": "code",
   "execution_count": 102,
   "metadata": {},
   "outputs": [
    {
     "data": {
      "text/plain": [
       "array([-0.67043431, -0.21753195, 62.2091293 ])"
      ]
     },
     "execution_count": 102,
     "metadata": {},
     "output_type": "execute_result"
    }
   ],
   "source": [
    "moved64.dipole"
   ]
  },
  {
   "cell_type": "code",
   "execution_count": 103,
   "metadata": {},
   "outputs": [],
   "source": [
    "surfacess = moved64.get_surface_sites()"
   ]
  },
  {
   "cell_type": "code",
   "execution_count": 104,
   "metadata": {},
   "outputs": [
    {
     "data": {
      "text/plain": [
       "{'top': [[PeriodicSite: Li+ (3.0638, 2.1272, 81.7303) [0.5404, 0.4237, 0.9847],\n",
       "   1],\n",
       "  [PeriodicSite: Li+ (4.7042, 4.4353, 81.0878) [0.7901, 0.8834, 0.9767], 2],\n",
       "  [PeriodicSite: Mn4+ (2.1931, 4.8531, 82.4429) [0.2741, 0.9666, 0.9933], 41],\n",
       "  [PeriodicSite: O2- (1.4842, 3.4058, 81.3626) [0.1814, 0.6783, 0.9805], 60],\n",
       "  [PeriodicSite: O2- (4.7400, 0.9102, 82.2410) [0.9165, 0.1813, 0.9907], 63],\n",
       "  [PeriodicSite: O2- (2.0706, 0.4441, 80.7322) [0.3988, 0.0885, 0.9729], 65]],\n",
       " 'bottom': [[PeriodicSite: Li+ (5.0320, 0.4675, 43.0788) [0.9899, 0.0931, 0.5186],\n",
       "   36],\n",
       "  [PeriodicSite: Li+ (2.5845, 0.0422, 41.6454) [0.5151, 0.0084, 0.5017], 39],\n",
       "  [PeriodicSite: Mn4+ (1.7490, 2.7623, 42.3390) [0.2561, 0.5502, 0.5100], 58],\n",
       "  [PeriodicSite: O2- (3.7925, 3.8543, 41.3931) [0.6276, 0.7677, 0.4983], 64],\n",
       "  [PeriodicSite: O2- (1.0216, 2.1506, 44.0230) [0.1314, 0.4283, 0.5305], 114],\n",
       "  [PeriodicSite: O2- (5.1532, 3.7611, 41.9647) [0.9027, 0.7491, 0.5050], 115],\n",
       "  [PeriodicSite: O2- (3.3559, 1.6845, 42.5682) [0.6137, 0.3355, 0.5126], 116]]}"
      ]
     },
     "execution_count": 104,
     "metadata": {},
     "output_type": "execute_result"
    }
   ],
   "source": [
    "surfacess"
   ]
  },
  {
   "cell_type": "code",
   "execution_count": 105,
   "metadata": {},
   "outputs": [],
   "source": [
    "surfacess_before = slabs_bva_before[0].get_surface_sites()"
   ]
  },
  {
   "cell_type": "code",
   "execution_count": 106,
   "metadata": {},
   "outputs": [
    {
     "data": {
      "text/plain": [
       "{'top': [[PeriodicSite: Li+ (3.0638, 2.1272, 81.7303) [0.5404, 0.4237, 0.9847],\n",
       "   1],\n",
       "  [PeriodicSite: Mn4+ (2.1931, 4.8531, 82.4429) [0.2741, 0.9666, 0.9933], 41],\n",
       "  [PeriodicSite: O2- (1.4842, 3.4058, 81.3626) [0.1814, 0.6783, 0.9805], 60],\n",
       "  [PeriodicSite: O2- (4.7400, 0.9102, 82.2410) [0.9165, 0.1813, 0.9907], 63],\n",
       "  [PeriodicSite: O2- (3.7925, 3.8543, 82.8712) [0.6276, 0.7677, 0.9983], 64],\n",
       "  [PeriodicSite: O2- (2.0706, 0.4441, 80.7322) [0.3988, 0.0885, 0.9729], 65]],\n",
       " 'bottom': [[PeriodicSite: Li+ (5.0320, 0.4675, 43.0788) [0.9899, 0.0931, 0.5186],\n",
       "   36],\n",
       "  [PeriodicSite: Li+ (2.5845, 0.0422, 41.6454) [0.5151, 0.0084, 0.5017], 39],\n",
       "  [PeriodicSite: Mn4+ (1.7490, 2.7623, 42.3390) [0.2561, 0.5502, 0.5100], 58],\n",
       "  [PeriodicSite: O2- (1.0216, 2.1506, 44.0230) [0.1314, 0.4283, 0.5305], 114],\n",
       "  [PeriodicSite: O2- (5.1532, 3.7611, 41.9647) [0.9027, 0.7491, 0.5050], 115],\n",
       "  [PeriodicSite: O2- (3.3559, 1.6845, 42.5682) [0.6137, 0.3355, 0.5126], 116],\n",
       "  [PeriodicSite: O2- (2.4579, 4.2097, 43.4193) [0.3488, 0.8385, 0.5229], 119]]}"
      ]
     },
     "execution_count": 106,
     "metadata": {},
     "output_type": "execute_result"
    }
   ],
   "source": [
    "surfacess_before"
   ]
  },
  {
   "cell_type": "code",
   "execution_count": 113,
   "metadata": {},
   "outputs": [],
   "source": [
    "moved1 = slabgen_move.move_to_other_side(slabs_bva_before[0],[1])"
   ]
  },
  {
   "cell_type": "code",
   "execution_count": 114,
   "metadata": {},
   "outputs": [
    {
     "data": {
      "text/plain": [
       "array([  0.67043431,   0.21753195, -62.2091293 ])"
      ]
     },
     "execution_count": 114,
     "metadata": {},
     "output_type": "execute_result"
    }
   ],
   "source": [
    "moved1.dipole"
   ]
  },
  {
   "cell_type": "code",
   "execution_count": 116,
   "metadata": {},
   "outputs": [
    {
     "data": {
      "text/plain": [
       "{'top': [[PeriodicSite: Li+ (0.4911, 1.7227, 80.3645) [0.0399, 0.3431, 0.9686],\n",
       "   0],\n",
       "  [PeriodicSite: Li+ (4.7042, 4.4353, 81.0878) [0.7901, 0.8834, 0.9767], 2],\n",
       "  [PeriodicSite: Li+ (3.0472, 1.2973, 78.9850) [0.5651, 0.2584, 0.9517], 3],\n",
       "  [PeriodicSite: Mn4+ (2.1931, 4.8531, 82.4429) [0.2741, 0.9666, 0.9933], 41],\n",
       "  [PeriodicSite: O2- (1.4842, 3.4058, 81.3626) [0.1814, 0.6783, 0.9805], 60],\n",
       "  [PeriodicSite: O2- (3.8185, 2.9397, 79.9078) [0.6637, 0.5855, 0.9626], 62],\n",
       "  [PeriodicSite: O2- (4.7400, 0.9102, 82.2410) [0.9165, 0.1813, 0.9907], 63],\n",
       "  [PeriodicSite: O2- (3.7925, 3.8543, 82.8712) [0.6276, 0.7677, 0.9983], 64],\n",
       "  [PeriodicSite: O2- (2.0706, 0.4441, 80.7322) [0.3988, 0.0885, 0.9729], 65]],\n",
       " 'bottom': [[PeriodicSite: Li+ (3.0638, 2.1272, 40.2523) [0.5404, 0.4237, 0.4847],\n",
       "   1],\n",
       "  [PeriodicSite: Li+ (5.0320, 0.4675, 43.0788) [0.9899, 0.0931, 0.5186], 36],\n",
       "  [PeriodicSite: Li+ (2.5845, 0.0422, 41.6454) [0.5151, 0.0084, 0.5017], 39],\n",
       "  [PeriodicSite: Mn4+ (1.7490, 2.7623, 42.3390) [0.2561, 0.5502, 0.5100], 58],\n",
       "  [PeriodicSite: O2- (1.0216, 2.1506, 44.0230) [0.1314, 0.4283, 0.5305], 114],\n",
       "  [PeriodicSite: O2- (5.1532, 3.7611, 41.9647) [0.9027, 0.7491, 0.5050], 115],\n",
       "  [PeriodicSite: O2- (3.3559, 1.6845, 42.5682) [0.6137, 0.3355, 0.5126], 116],\n",
       "  [PeriodicSite: O2- (2.4579, 4.2097, 43.4193) [0.3488, 0.8385, 0.5229], 119]]}"
      ]
     },
     "execution_count": 116,
     "metadata": {},
     "output_type": "execute_result"
    }
   ],
   "source": [
    "moved1.get_surface_sites()"
   ]
  },
  {
   "cell_type": "code",
   "execution_count": null,
   "metadata": {},
   "outputs": [],
   "source": []
  }
 ],
 "metadata": {
  "kernelspec": {
   "display_name": "Python 3",
   "language": "python",
   "name": "python3"
  },
  "language_info": {
   "codemirror_mode": {
    "name": "ipython",
    "version": 3
   },
   "file_extension": ".py",
   "mimetype": "text/x-python",
   "name": "python",
   "nbconvert_exporter": "python",
   "pygments_lexer": "ipython3",
   "version": "3.7.0"
  }
 },
 "nbformat": 4,
 "nbformat_minor": 2
}
