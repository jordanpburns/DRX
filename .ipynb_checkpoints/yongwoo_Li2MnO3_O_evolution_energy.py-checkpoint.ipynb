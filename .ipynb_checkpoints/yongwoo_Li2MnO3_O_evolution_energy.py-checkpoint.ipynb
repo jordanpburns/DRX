{
 "cells": [
  {
   "cell_type": "code",
   "execution_count": 102,
   "metadata": {},
   "outputs": [],
   "source": [
    "from pymatgen import Structure, MPRester, Lattice\n",
    "import os\n",
    "from subprocess import call\n",
    "# from math import sin, cos, sqrt, pi\n",
    "from pymatgen.core.surface import SlabGenerator, Slab\n",
    "from pymatgen.vis.structure_vtk import StructureVis\n",
    "from atomate.vasp.fireworks.core import OptimizeFW\n",
    "from pymatgen.symmetry.analyzer import SpacegroupAnalyzer as SGA\n",
    "mpr = MPRester('xGTZsWPN3BoydaL4')\n",
    "from pymatgen.io.vasp.inputs import Poscar\n",
    "from pymatgen.io.lammps.data import LammpsData\n",
    "\n"
   ]
  },
  {
   "cell_type": "code",
   "execution_count": 2,
   "metadata": {},
   "outputs": [],
   "source": [
    "#import Li2MnO3 structure from materials project \n",
    "struct = mpr.get_structure_by_material_id(\"mp-18988\")"
   ]
  },
  {
   "cell_type": "code",
   "execution_count": 3,
   "metadata": {},
   "outputs": [],
   "source": [
    "# use relaxed structure\n",
    "#struct = Structure.from_file(filename='Li2MnO3_2.CONTCAR.txt')"
   ]
  },
  {
   "cell_type": "code",
   "execution_count": 4,
   "metadata": {},
   "outputs": [],
   "source": [
    "sga = SGA(struct, 0.1)"
   ]
  },
  {
   "cell_type": "code",
   "execution_count": 5,
   "metadata": {},
   "outputs": [
    {
     "data": {
      "text/plain": [
       "('C2/m', 12)"
      ]
     },
     "execution_count": 5,
     "metadata": {},
     "output_type": "execute_result"
    }
   ],
   "source": [
    "struct.get_space_group_info(0.1)"
   ]
  },
  {
   "cell_type": "code",
   "execution_count": 6,
   "metadata": {},
   "outputs": [],
   "source": [
    "struct_sym = sga.get_symmetrized_structure()"
   ]
  },
  {
   "cell_type": "code",
   "execution_count": 7,
   "metadata": {},
   "outputs": [
    {
     "name": "stdout",
     "output_type": "stream",
     "text": [
      "['4g', '2c', '2b', '4h', '8j', '4i']\n"
     ]
    }
   ],
   "source": [
    "wyckoff_symbols = struct_sym.wyckoff_symbols\n",
    "print(wyckoff_symbols)"
   ]
  },
  {
   "cell_type": "code",
   "execution_count": 8,
   "metadata": {},
   "outputs": [
    {
     "name": "stdout",
     "output_type": "stream",
     "text": [
      "['4g', '2c', '4g', '4g', '4g', '2c', '2b', '2b', '4h', '4h', '4h', '4h', '8j', '8j', '4i', '4i', '4i', '8j', '8j', '8j', '8j', '8j', '8j', '4i']\n"
     ]
    }
   ],
   "source": [
    "equiv_indices = struct_sym.equivalent_indices\n",
    "wyckoff_labels = ['']*len(struct_sym)\n",
    "for wyckoff_symbol, equiv_group in zip(wyckoff_symbols, equiv_indices):\n",
    "    for idx in equiv_group:\n",
    "        wyckoff_labels[idx] = wyckoff_symbol\n",
    "print(wyckoff_labels)"
   ]
  },
  {
   "cell_type": "code",
   "execution_count": 9,
   "metadata": {},
   "outputs": [
    {
     "name": "stdout",
     "output_type": "stream",
     "text": [
      "Full Formula (Li8 Mn4 O12)\n",
      "Reduced Formula: Li2MnO3\n",
      "abc   :   5.004929   5.004930   9.745936\n",
      "angles:  94.792669  94.792669 119.925930\n",
      "Sites (24)\n",
      "  #  SP           a         b         c    magmom  wyckoff\n",
      "---  ----  --------  --------  --------  --------  ---------\n",
      "  0  Li    0.83986   0.663673  0.500507     0      4g\n",
      "  1  Li    0.250158  0.749842  0.75         0.007  2c\n",
      "  2  Li    0.16014   0.336327  0.499493     0      4g\n",
      "  3  Li    0.336327  0.16014   0.999493     0      4g\n",
      "  4  Li    0.663673  0.83986   0.000507     0      4g\n",
      "  5  Li    0.749842  0.250158  0.25         0.007  2c\n",
      "  6  Li    0         0.5       0            0      2b\n",
      "  7  Li    0.5       0         0.5          0      2b\n",
      "  8  Mn    0.582936  0.417064  0.75         3.148  4h\n",
      "  9  Mn    0.083059  0.916941  0.25         3.147  4h\n",
      " 10  Mn    0.916941  0.083059  0.75         3.147  4h\n",
      " 11  Mn    0.417064  0.582936  0.25         3.148  4h\n",
      " 12  O     0.070457  0.213216  0.138081    -0.062  8j\n",
      " 13  O     0.429429  0.28667   0.361863    -0.062  8j\n",
      " 14  O     0.644831  0.144853  0.863683    -0.055  4i\n",
      " 15  O     0.144853  0.644831  0.363683    -0.055  4i\n",
      " 16  O     0.855147  0.355169  0.636317    -0.055  4i\n",
      " 17  O     0.929543  0.786784  0.861919    -0.062  8j\n",
      " 18  O     0.28667   0.429429  0.861863    -0.059  8j\n",
      " 19  O     0.71333   0.570571  0.138137    -0.059  8j\n",
      " 20  O     0.570571  0.71333   0.638137    -0.062  8j\n",
      " 21  O     0.213216  0.070457  0.638081    -0.059  8j\n",
      " 22  O     0.786784  0.929543  0.361919    -0.059  8j\n",
      " 23  O     0.355169  0.855147  0.136317    -0.055  4i\n"
     ]
    }
   ],
   "source": [
    "struct_sym.add_site_property('wyckoff', wyckoff_labels)\n",
    "print(struct_sym)\n",
    "struct_sym = Structure.from_sites(struct_sym.sites)"
   ]
  },
  {
   "cell_type": "code",
   "execution_count": 10,
   "metadata": {},
   "outputs": [],
   "source": [
    "slabgen_wyckoff = SlabGenerator(struct_sym, [0, 0, 1], 10 , 10, in_unit_planes=True)\n",
    "slabs_wyckoff = slabgen_wyckoff.get_slabs()\n",
    "all_slabs_corrected_wyckoff = [slabgen_wyckoff.nonstoichiometric_symmetrized_slab(slab)\n",
    "                               for slab in slabs_wyckoff]\n",
    "all_slabs_corrected_wyckoff = sum(all_slabs_corrected_wyckoff, [])"
   ]
  },
  {
   "cell_type": "markdown",
   "metadata": {},
   "source": [
    "# testing nonstoichiometric_symmetrized_slab correction of dipole"
   ]
  },
  {
   "cell_type": "code",
   "execution_count": 11,
   "metadata": {},
   "outputs": [],
   "source": [
    "from pymatgen.analysis.bond_valence import BVAnalyzer\n",
    "bva_analyzer = BVAnalyzer()"
   ]
  },
  {
   "cell_type": "code",
   "execution_count": 12,
   "metadata": {},
   "outputs": [],
   "source": [
    "bva_struct = bva_analyzer.get_oxi_state_decorated_structure(struct_sym)"
   ]
  },
  {
   "cell_type": "code",
   "execution_count": 13,
   "metadata": {},
   "outputs": [],
   "source": [
    "slabgen_bva_before_sym = SlabGenerator(bva_struct, [0,0,1], 1 , 1, in_unit_planes=True)\n",
    "slabs_bva_before = slabgen_bva_before_sym.get_slabs()"
   ]
  },
  {
   "cell_type": "code",
   "execution_count": 14,
   "metadata": {},
   "outputs": [
    {
     "data": {
      "text/plain": [
       "[array([ 2.38310373,  4.18014316, 28.42323644]),\n",
       " array([ -7.14931119, -12.54042948, -85.26970932])]"
      ]
     },
     "execution_count": 14,
     "metadata": {},
     "output_type": "execute_result"
    }
   ],
   "source": [
    "[slab.dipole for slab in slabs_bva_before]"
   ]
  },
  {
   "cell_type": "code",
   "execution_count": 15,
   "metadata": {},
   "outputs": [],
   "source": [
    "slabgen_bva = SlabGenerator(bva_struct, [0,0,1], 1 , 1, in_unit_planes=True)\n",
    "slabs_bva = slabgen_bva.get_slabs()\n",
    "all_slabs_corrected_bva = [slabgen_wyckoff.nonstoichiometric_symmetrized_slab(slab)\n",
    "                               for slab in slabs_bva]\n",
    "all_slabs_corrected_bva = sum(all_slabs_corrected_bva, [])"
   ]
  },
  {
   "cell_type": "code",
   "execution_count": 16,
   "metadata": {},
   "outputs": [
    {
     "data": {
      "text/plain": [
       "[array([ 1.08246745e-15,  1.16573418e-15, -1.28785871e-14]),\n",
       " array([1.22124533e-15, 2.66453526e-15, 1.86517468e-14]),\n",
       " array([ 5.55111512e-16, -2.22044605e-16,  6.21724894e-15]),\n",
       " array([3.10862447e-15, 5.77315973e-15, 5.50670620e-14])]"
      ]
     },
     "execution_count": 16,
     "metadata": {},
     "output_type": "execute_result"
    }
   ],
   "source": [
    "[slab.dipole for slab in all_slabs_corrected_bva]"
   ]
  },
  {
   "cell_type": "code",
   "execution_count": 17,
   "metadata": {},
   "outputs": [
    {
     "data": {
      "text/plain": [
       "[True, True]"
      ]
     },
     "execution_count": 17,
     "metadata": {},
     "output_type": "execute_result"
    }
   ],
   "source": [
    "[slab.is_polar() for slab in slabs_bva_before]"
   ]
  },
  {
   "cell_type": "code",
   "execution_count": 18,
   "metadata": {},
   "outputs": [
    {
     "data": {
      "text/plain": [
       "[False, False, False, False]"
      ]
     },
     "execution_count": 18,
     "metadata": {},
     "output_type": "execute_result"
    }
   ],
   "source": [
    "[slab.is_polar() for slab in all_slabs_corrected_bva]"
   ]
  },
  {
   "cell_type": "markdown",
   "metadata": {},
   "source": [
    "## test getting rid of dipole with Slab.move_to_other_side"
   ]
  },
  {
   "cell_type": "code",
   "execution_count": 19,
   "metadata": {},
   "outputs": [],
   "source": [
    "test_move = slabs_bva_before[1]"
   ]
  },
  {
   "cell_type": "code",
   "execution_count": 20,
   "metadata": {},
   "outputs": [
    {
     "data": {
      "text/plain": [
       "Structure Summary\n",
       "Lattice\n",
       "    abc : 5.004929303378835 5.004929545106319 38.98374494930592\n",
       " angles : 94.7926693854913 94.79266948145624 119.9259295321503\n",
       " volume : 834.4457832963125\n",
       "      A : 4.987429853239785 0.0 -0.4181635933850809\n",
       "      B : -2.540680349853545 4.291783115513749 -0.41816360522802787\n",
       "      C : 0.0 0.0 38.98374494930592\n",
       "PeriodicSite: Li+ (2.5026, 2.8483, 2.3667) [0.8399, 0.6637, 0.0768]\n",
       "PeriodicSite: Li+ (-0.6575, 3.2182, 5.0088) [0.2502, 0.7498, 0.1392]\n",
       "PeriodicSite: Li+ (-0.0558, 1.4434, 2.7779) [0.1601, 0.3363, 0.0766]\n",
       "PeriodicSite: Li+ (1.2705, 0.6873, 7.6509) [0.3363, 0.1601, 0.2016]\n",
       "PeriodicSite: Li+ (1.1762, 3.6045, 7.2396) [0.6637, 0.8399, 0.2018]\n",
       "PeriodicSite: Li+ (3.1042, 1.0736, 0.1358) [0.7498, 0.2502, 0.0142]\n",
       "PeriodicSite: Li+ (-1.2703, 2.1459, 7.6543) [0.0000, 0.5000, 0.2017]\n",
       "PeriodicSite: Li+ (2.4937, 0.0000, 2.7814) [0.5000, 0.0000, 0.0767]\n",
       "PeriodicSite: Mn4+ (1.8477, 1.7899, 5.0088) [0.5829, 0.4171, 0.1392]\n",
       "PeriodicSite: Mn4+ (-1.9154, 3.9353, 0.1358) [0.0831, 0.9169, 0.0142]\n",
       "PeriodicSite: Mn4+ (4.3622, 0.3565, 5.0088) [0.9169, 0.0831, 0.1392]\n",
       "PeriodicSite: Mn4+ (0.5990, 2.5018, 0.1358) [0.4171, 0.5829, 0.0142]\n",
       "PeriodicSite: O2- (-0.1903, 0.9151, 9.0905) [0.0705, 0.2132, 0.2362]\n",
       "PeriodicSite: O2- (1.4134, 1.2303, 1.3447) [0.4294, 0.2867, 0.0422]\n",
       "PeriodicSite: O2- (2.8480, 0.6217, 6.2047) [0.6448, 0.1449, 0.1676]\n",
       "PeriodicSite: O2- (-0.9159, 2.7675, 1.3317) [0.1449, 0.6448, 0.0426]\n",
       "PeriodicSite: O2- (3.3626, 1.5243, 3.8129) [0.8551, 0.3552, 0.1108]\n",
       "PeriodicSite: O2- (2.6371, 3.3767, 5.8000) [0.9295, 0.7868, 0.1672]\n",
       "PeriodicSite: O2- (0.3387, 1.8430, 6.2177) [0.2867, 0.4294, 0.1672]\n",
       "PeriodicSite: O2- (2.1080, 2.4488, 8.6728) [0.7133, 0.5706, 0.2362]\n",
       "PeriodicSite: O2- (1.0333, 3.0615, 3.7998) [0.5706, 0.7133, 0.1112]\n",
       "PeriodicSite: O2- (0.8844, 0.3024, 4.2176) [0.2132, 0.0705, 0.1112]\n",
       "PeriodicSite: O2- (1.5624, 3.9894, 0.9270) [0.7868, 0.9295, 0.0422]\n",
       "PeriodicSite: O2- (-0.4013, 3.6701, 8.6859) [0.3552, 0.8551, 0.2358]\n",
       "PeriodicSite: Li+ (2.5026, 2.8483, 12.1126) [0.8399, 0.6637, 0.3268]\n",
       "PeriodicSite: Li+ (-0.6575, 3.2182, 14.7547) [0.2502, 0.7498, 0.3892]\n",
       "PeriodicSite: Li+ (-0.0558, 1.4434, 12.5238) [0.1601, 0.3363, 0.3266]\n",
       "PeriodicSite: Li+ (1.2705, 0.6873, 17.3968) [0.3363, 0.1601, 0.4516]\n",
       "PeriodicSite: Li+ (1.1762, 3.6045, 16.9856) [0.6637, 0.8399, 0.4518]\n",
       "PeriodicSite: Li+ (3.1042, 1.0736, 9.8817) [0.7498, 0.2502, 0.2642]\n",
       "PeriodicSite: Li+ (-1.2703, 2.1459, 17.4003) [0.0000, 0.5000, 0.4517]\n",
       "PeriodicSite: Li+ (2.4937, 0.0000, 12.5273) [0.5000, 0.0000, 0.3267]\n",
       "PeriodicSite: Mn4+ (1.8477, 1.7899, 14.7547) [0.5829, 0.4171, 0.3892]\n",
       "PeriodicSite: Mn4+ (-1.9154, 3.9353, 9.8817) [0.0831, 0.9169, 0.2642]\n",
       "PeriodicSite: Mn4+ (4.3622, 0.3565, 14.7547) [0.9169, 0.0831, 0.3892]\n",
       "PeriodicSite: Mn4+ (0.5990, 2.5018, 9.8817) [0.4171, 0.5829, 0.2642]\n",
       "PeriodicSite: O2- (-0.1903, 0.9151, 18.8365) [0.0705, 0.2132, 0.4862]\n",
       "PeriodicSite: O2- (1.4134, 1.2303, 11.0907) [0.4294, 0.2867, 0.2922]\n",
       "PeriodicSite: O2- (2.8480, 0.6217, 15.9506) [0.6448, 0.1449, 0.4176]\n",
       "PeriodicSite: O2- (-0.9159, 2.7675, 11.0776) [0.1449, 0.6448, 0.2926]\n",
       "PeriodicSite: O2- (3.3626, 1.5243, 13.5588) [0.8551, 0.3552, 0.3608]\n",
       "PeriodicSite: O2- (2.6371, 3.3767, 15.5459) [0.9295, 0.7868, 0.4172]\n",
       "PeriodicSite: O2- (0.3387, 1.8430, 15.9636) [0.2867, 0.4294, 0.4172]\n",
       "PeriodicSite: O2- (2.1080, 2.4488, 18.4187) [0.7133, 0.5706, 0.4862]\n",
       "PeriodicSite: O2- (1.0333, 3.0615, 13.5458) [0.5706, 0.7133, 0.3612]\n",
       "PeriodicSite: O2- (0.8844, 0.3024, 13.9635) [0.2132, 0.0705, 0.3612]\n",
       "PeriodicSite: O2- (1.5624, 3.9894, 10.6730) [0.7868, 0.9295, 0.2922]\n",
       "PeriodicSite: O2- (-0.4013, 3.6701, 18.4318) [0.3552, 0.8551, 0.4858]"
      ]
     },
     "execution_count": 20,
     "metadata": {},
     "output_type": "execute_result"
    }
   ],
   "source": [
    "test_move"
   ]
  },
  {
   "cell_type": "code",
   "execution_count": 21,
   "metadata": {},
   "outputs": [
    {
     "data": {
      "text/plain": [
       "array([ -7.14931119, -12.54042948, -85.26970932])"
      ]
     },
     "execution_count": 21,
     "metadata": {},
     "output_type": "execute_result"
    }
   ],
   "source": [
    "test_move.dipole"
   ]
  },
  {
   "cell_type": "code",
   "execution_count": 22,
   "metadata": {},
   "outputs": [
    {
     "data": {
      "text/plain": [
       "True"
      ]
     },
     "execution_count": 22,
     "metadata": {},
     "output_type": "execute_result"
    }
   ],
   "source": [
    "test_move.is_polar()"
   ]
  },
  {
   "cell_type": "code",
   "execution_count": 23,
   "metadata": {},
   "outputs": [],
   "source": [
    "#test_surface_sites = test_move.get_surface_sites()"
   ]
  },
  {
   "cell_type": "code",
   "execution_count": 24,
   "metadata": {},
   "outputs": [],
   "source": [
    "#test_surface_sites"
   ]
  },
  {
   "cell_type": "code",
   "execution_count": 25,
   "metadata": {},
   "outputs": [],
   "source": [
    "#surface_sites_bottom = test_surface_sites['bottom']"
   ]
  },
  {
   "cell_type": "code",
   "execution_count": 26,
   "metadata": {},
   "outputs": [],
   "source": [
    "#surface_sites_top = test_surface_sites['top']"
   ]
  },
  {
   "cell_type": "code",
   "execution_count": 27,
   "metadata": {},
   "outputs": [],
   "source": [
    "#surface_sites_bottom"
   ]
  },
  {
   "cell_type": "code",
   "execution_count": 28,
   "metadata": {},
   "outputs": [],
   "source": [
    "#surface_sites_top"
   ]
  },
  {
   "cell_type": "code",
   "execution_count": 29,
   "metadata": {},
   "outputs": [],
   "source": [
    "test_move_copy = test_move.copy()"
   ]
  },
  {
   "cell_type": "code",
   "execution_count": 30,
   "metadata": {},
   "outputs": [],
   "source": [
    "def z_site(site):\n",
    "    return site.z\n",
    "sites_in_z_order = sorted(test_move_copy.sites, key = z_site)"
   ]
  },
  {
   "cell_type": "code",
   "execution_count": 31,
   "metadata": {
    "collapsed": true
   },
   "outputs": [
    {
     "data": {
      "text/plain": [
       "[PeriodicSite: Mn4+ (-1.9154, 3.9353, 0.1358) [0.0831, 0.9169, 0.0142],\n",
       " PeriodicSite: Mn4+ (0.5990, 2.5018, 0.1358) [0.4171, 0.5829, 0.0142],\n",
       " PeriodicSite: Li+ (3.1042, 1.0736, 0.1358) [0.7498, 0.2502, 0.0142],\n",
       " PeriodicSite: O2- (1.5624, 3.9894, 0.9270) [0.7868, 0.9295, 0.0422],\n",
       " PeriodicSite: O2- (-0.9159, 2.7675, 1.3317) [0.1449, 0.6448, 0.0426],\n",
       " PeriodicSite: O2- (1.4134, 1.2303, 1.3447) [0.4294, 0.2867, 0.0422],\n",
       " PeriodicSite: Li+ (2.5026, 2.8483, 2.3667) [0.8399, 0.6637, 0.0768],\n",
       " PeriodicSite: Li+ (-0.0558, 1.4434, 2.7779) [0.1601, 0.3363, 0.0766],\n",
       " PeriodicSite: Li+ (2.4937, 0.0000, 2.7814) [0.5000, 0.0000, 0.0767],\n",
       " PeriodicSite: O2- (1.0333, 3.0615, 3.7998) [0.5706, 0.7133, 0.1112],\n",
       " PeriodicSite: O2- (3.3626, 1.5243, 3.8129) [0.8551, 0.3552, 0.1108],\n",
       " PeriodicSite: O2- (0.8844, 0.3024, 4.2176) [0.2132, 0.0705, 0.1112],\n",
       " PeriodicSite: Li+ (-0.6575, 3.2182, 5.0088) [0.2502, 0.7498, 0.1392],\n",
       " PeriodicSite: Mn4+ (1.8477, 1.7899, 5.0088) [0.5829, 0.4171, 0.1392],\n",
       " PeriodicSite: Mn4+ (4.3622, 0.3565, 5.0088) [0.9169, 0.0831, 0.1392],\n",
       " PeriodicSite: O2- (2.6371, 3.3767, 5.8000) [0.9295, 0.7868, 0.1672],\n",
       " PeriodicSite: O2- (2.8480, 0.6217, 6.2047) [0.6448, 0.1449, 0.1676],\n",
       " PeriodicSite: O2- (0.3387, 1.8430, 6.2177) [0.2867, 0.4294, 0.1672],\n",
       " PeriodicSite: Li+ (1.1762, 3.6045, 7.2396) [0.6637, 0.8399, 0.2018],\n",
       " PeriodicSite: Li+ (1.2705, 0.6873, 7.6509) [0.3363, 0.1601, 0.2016],\n",
       " PeriodicSite: Li+ (-1.2703, 2.1459, 7.6543) [0.0000, 0.5000, 0.2017],\n",
       " PeriodicSite: O2- (2.1080, 2.4488, 8.6728) [0.7133, 0.5706, 0.2362],\n",
       " PeriodicSite: O2- (-0.4013, 3.6701, 8.6859) [0.3552, 0.8551, 0.2358],\n",
       " PeriodicSite: O2- (-0.1903, 0.9151, 9.0905) [0.0705, 0.2132, 0.2362],\n",
       " PeriodicSite: Mn4+ (-1.9154, 3.9353, 9.8817) [0.0831, 0.9169, 0.2642],\n",
       " PeriodicSite: Mn4+ (0.5990, 2.5018, 9.8817) [0.4171, 0.5829, 0.2642],\n",
       " PeriodicSite: Li+ (3.1042, 1.0736, 9.8817) [0.7498, 0.2502, 0.2642],\n",
       " PeriodicSite: O2- (1.5624, 3.9894, 10.6730) [0.7868, 0.9295, 0.2922],\n",
       " PeriodicSite: O2- (-0.9159, 2.7675, 11.0776) [0.1449, 0.6448, 0.2926],\n",
       " PeriodicSite: O2- (1.4134, 1.2303, 11.0907) [0.4294, 0.2867, 0.2922],\n",
       " PeriodicSite: Li+ (2.5026, 2.8483, 12.1126) [0.8399, 0.6637, 0.3268],\n",
       " PeriodicSite: Li+ (-0.0558, 1.4434, 12.5238) [0.1601, 0.3363, 0.3266],\n",
       " PeriodicSite: Li+ (2.4937, 0.0000, 12.5273) [0.5000, 0.0000, 0.3267],\n",
       " PeriodicSite: O2- (1.0333, 3.0615, 13.5458) [0.5706, 0.7133, 0.3612],\n",
       " PeriodicSite: O2- (3.3626, 1.5243, 13.5588) [0.8551, 0.3552, 0.3608],\n",
       " PeriodicSite: O2- (0.8844, 0.3024, 13.9635) [0.2132, 0.0705, 0.3612],\n",
       " PeriodicSite: Li+ (-0.6575, 3.2182, 14.7547) [0.2502, 0.7498, 0.3892],\n",
       " PeriodicSite: Mn4+ (1.8477, 1.7899, 14.7547) [0.5829, 0.4171, 0.3892],\n",
       " PeriodicSite: Mn4+ (4.3622, 0.3565, 14.7547) [0.9169, 0.0831, 0.3892],\n",
       " PeriodicSite: O2- (2.6371, 3.3767, 15.5459) [0.9295, 0.7868, 0.4172],\n",
       " PeriodicSite: O2- (2.8480, 0.6217, 15.9506) [0.6448, 0.1449, 0.4176],\n",
       " PeriodicSite: O2- (0.3387, 1.8430, 15.9636) [0.2867, 0.4294, 0.4172],\n",
       " PeriodicSite: Li+ (1.1762, 3.6045, 16.9856) [0.6637, 0.8399, 0.4518],\n",
       " PeriodicSite: Li+ (1.2705, 0.6873, 17.3968) [0.3363, 0.1601, 0.4516],\n",
       " PeriodicSite: Li+ (-1.2703, 2.1459, 17.4003) [0.0000, 0.5000, 0.4517],\n",
       " PeriodicSite: O2- (2.1080, 2.4488, 18.4187) [0.7133, 0.5706, 0.4862],\n",
       " PeriodicSite: O2- (-0.4013, 3.6701, 18.4318) [0.3552, 0.8551, 0.4858],\n",
       " PeriodicSite: O2- (-0.1903, 0.9151, 18.8365) [0.0705, 0.2132, 0.4862]]"
      ]
     },
     "execution_count": 31,
     "metadata": {},
     "output_type": "execute_result"
    }
   ],
   "source": [
    "sites_in_z_order"
   ]
  },
  {
   "cell_type": "code",
   "execution_count": 32,
   "metadata": {},
   "outputs": [
    {
     "data": {
      "text/plain": [
       "9"
      ]
     },
     "execution_count": 32,
     "metadata": {},
     "output_type": "execute_result"
    }
   ],
   "source": [
    "test_move.index(sites_in_z_order[0])"
   ]
  },
  {
   "cell_type": "code",
   "execution_count": 33,
   "metadata": {},
   "outputs": [],
   "source": [
    "def move_to_other_side(slab, z_list):\n",
    "    slab_copy = slab.copy()\n",
    "    idx = slab_copy.index(z_list[0])\n",
    "    def return_slab():\n",
    "        slabgen_move = SlabGenerator(Structure.from_dict(Slab.as_dict(slab_copy)), [0,0,1], 1, 1, in_unit_planes = True)\n",
    "        return slabgen_move.move_to_other_side(slab_copy, [idx])\n",
    "    new_slab = return_slab()\n",
    "    new_z_list = sorted(new_slab.sites, key = z_site)\n",
    "    return new_slab, new_z_list"
   ]
  },
  {
   "cell_type": "code",
   "execution_count": 96,
   "metadata": {},
   "outputs": [],
   "source": [
    "test_move_copy, sites_in_z_order = move_to_other_side(test_move_copy, sites_in_z_order)"
   ]
  },
  {
   "cell_type": "code",
   "execution_count": 97,
   "metadata": {},
   "outputs": [
    {
     "data": {
      "text/plain": [
       "array([ 2.38310373,  4.18014316, 28.42323644])"
      ]
     },
     "execution_count": 97,
     "metadata": {},
     "output_type": "execute_result"
    }
   ],
   "source": [
    "test_move_copy.dipole"
   ]
  },
  {
   "cell_type": "code",
   "execution_count": 98,
   "metadata": {
    "collapsed": true
   },
   "outputs": [
    {
     "data": {
      "text/plain": [
       "[PeriodicSite: O2- (2.1080, 2.4488, 8.6728) [0.7133, 0.5706, 0.2362],\n",
       " PeriodicSite: O2- (-0.4013, 3.6701, 8.6859) [0.3552, 0.8551, 0.2358],\n",
       " PeriodicSite: O2- (-0.1903, 0.9151, 9.0905) [0.0705, 0.2132, 0.2362],\n",
       " PeriodicSite: Mn4+ (-1.9154, 3.9353, 9.8817) [0.0831, 0.9169, 0.2642],\n",
       " PeriodicSite: Mn4+ (0.5990, 2.5018, 9.8817) [0.4171, 0.5829, 0.2642],\n",
       " PeriodicSite: Li+ (3.1042, 1.0736, 9.8817) [0.7498, 0.2502, 0.2642],\n",
       " PeriodicSite: O2- (1.5624, 3.9894, 10.6730) [0.7868, 0.9295, 0.2922],\n",
       " PeriodicSite: O2- (-0.9159, 2.7675, 11.0776) [0.1449, 0.6448, 0.2926],\n",
       " PeriodicSite: O2- (1.4134, 1.2303, 11.0907) [0.4294, 0.2867, 0.2922],\n",
       " PeriodicSite: Li+ (2.5026, 2.8483, 12.1126) [0.8399, 0.6637, 0.3268],\n",
       " PeriodicSite: Li+ (-0.0558, 1.4434, 12.5238) [0.1601, 0.3363, 0.3266],\n",
       " PeriodicSite: Li+ (2.4937, 0.0000, 12.5273) [0.5000, 0.0000, 0.3267],\n",
       " PeriodicSite: O2- (1.0333, 3.0615, 13.5458) [0.5706, 0.7133, 0.3612],\n",
       " PeriodicSite: O2- (3.3626, 1.5243, 13.5588) [0.8551, 0.3552, 0.3608],\n",
       " PeriodicSite: O2- (0.8844, 0.3024, 13.9635) [0.2132, 0.0705, 0.3612],\n",
       " PeriodicSite: Li+ (-0.6575, 3.2182, 14.7547) [0.2502, 0.7498, 0.3892],\n",
       " PeriodicSite: Mn4+ (1.8477, 1.7899, 14.7547) [0.5829, 0.4171, 0.3892],\n",
       " PeriodicSite: Mn4+ (4.3622, 0.3565, 14.7547) [0.9169, 0.0831, 0.3892],\n",
       " PeriodicSite: O2- (2.6371, 3.3767, 15.5459) [0.9295, 0.7868, 0.4172],\n",
       " PeriodicSite: O2- (2.8480, 0.6217, 15.9506) [0.6448, 0.1449, 0.4176],\n",
       " PeriodicSite: O2- (0.3387, 1.8430, 15.9636) [0.2867, 0.4294, 0.4172],\n",
       " PeriodicSite: Li+ (1.1762, 3.6045, 16.9856) [0.6637, 0.8399, 0.4518],\n",
       " PeriodicSite: Li+ (1.2705, 0.6873, 17.3968) [0.3363, 0.1601, 0.4516],\n",
       " PeriodicSite: Li+ (-1.2703, 2.1459, 17.4003) [0.0000, 0.5000, 0.4517],\n",
       " PeriodicSite: O2- (2.1080, 2.4488, 18.4187) [0.7133, 0.5706, 0.4862],\n",
       " PeriodicSite: O2- (-0.4013, 3.6701, 18.4318) [0.3552, 0.8551, 0.4858],\n",
       " PeriodicSite: O2- (-0.1903, 0.9151, 18.8365) [0.0705, 0.2132, 0.4862],\n",
       " PeriodicSite: Mn4+ (-1.9154, 3.9353, 19.6277) [0.0831, 0.9169, 0.5142],\n",
       " PeriodicSite: Mn4+ (0.5990, 2.5018, 19.6277) [0.4171, 0.5829, 0.5142],\n",
       " PeriodicSite: Li+ (3.1042, 1.0736, 19.6277) [0.7498, 0.2502, 0.5142],\n",
       " PeriodicSite: O2- (1.5624, 3.9894, 20.4189) [0.7868, 0.9295, 0.5422],\n",
       " PeriodicSite: O2- (-0.9159, 2.7675, 20.8236) [0.1449, 0.6448, 0.5426],\n",
       " PeriodicSite: O2- (1.4134, 1.2303, 20.8366) [0.4294, 0.2867, 0.5422],\n",
       " PeriodicSite: Li+ (2.5026, 2.8483, 21.8585) [0.8399, 0.6637, 0.5768],\n",
       " PeriodicSite: Li+ (-0.0558, 1.4434, 22.2698) [0.1601, 0.3363, 0.5766],\n",
       " PeriodicSite: Li+ (2.4937, 0.0000, 22.2732) [0.5000, 0.0000, 0.5767],\n",
       " PeriodicSite: O2- (1.0333, 3.0615, 23.2917) [0.5706, 0.7133, 0.6112],\n",
       " PeriodicSite: O2- (3.3626, 1.5243, 23.3048) [0.8551, 0.3552, 0.6108],\n",
       " PeriodicSite: O2- (0.8844, 0.3024, 23.7094) [0.2132, 0.0705, 0.6112],\n",
       " PeriodicSite: Li+ (-0.6575, 3.2182, 24.5006) [0.2502, 0.7498, 0.6392],\n",
       " PeriodicSite: Mn4+ (1.8477, 1.7899, 24.5006) [0.5829, 0.4171, 0.6392],\n",
       " PeriodicSite: Mn4+ (4.3622, 0.3565, 24.5006) [0.9169, 0.0831, 0.6392],\n",
       " PeriodicSite: O2- (2.6371, 3.3767, 25.2919) [0.9295, 0.7868, 0.6672],\n",
       " PeriodicSite: O2- (2.8480, 0.6217, 25.6965) [0.6448, 0.1449, 0.6676],\n",
       " PeriodicSite: O2- (0.3387, 1.8430, 25.7096) [0.2867, 0.4294, 0.6672],\n",
       " PeriodicSite: Li+ (1.1762, 3.6045, 26.7315) [0.6637, 0.8399, 0.7018],\n",
       " PeriodicSite: Li+ (1.2705, 0.6873, 27.1427) [0.3363, 0.1601, 0.7016],\n",
       " PeriodicSite: Li+ (-1.2703, 2.1459, 27.1462) [0.0000, 0.5000, 0.7017]]"
      ]
     },
     "execution_count": 98,
     "metadata": {},
     "output_type": "execute_result"
    }
   ],
   "source": [
    "sites_in_z_order"
   ]
  },
  {
   "cell_type": "code",
   "execution_count": 101,
   "metadata": {},
   "outputs": [],
   "source": [
    "view_in_ovito(test_move_copy)"
   ]
  },
  {
   "cell_type": "code",
   "execution_count": null,
   "metadata": {
    "scrolled": true
   },
   "outputs": [],
   "source": [
    "SlabGenerator.move_to_other_side(Structure.from_dict(Slab.as_dict(test_move)), [5])"
   ]
  },
  {
   "cell_type": "code",
   "execution_count": 86,
   "metadata": {},
   "outputs": [],
   "source": [
    "slab_to_run = all_slabs_corrected_wyckoff[5].copy()"
   ]
  },
  {
   "cell_type": "code",
   "execution_count": 87,
   "metadata": {},
   "outputs": [],
   "source": [
    "# get all of the surface sites and then choose just the oxygen\n",
    "all_surface_sites = Slab.get_surface_sites(slab_to_run, tag=True)"
   ]
  },
  {
   "cell_type": "code",
   "execution_count": 88,
   "metadata": {},
   "outputs": [],
   "source": [
    "# finds all slabs that don't have Mn on the surface\n",
    "#[slab for slab in all_slabs_corrected_wyckoff if 'Mn' not in \n",
    "#    [str(site[0].specie) for site in Slab.get_surface_sites(slab, tag=True)['top']]]"
   ]
  },
  {
   "cell_type": "code",
   "execution_count": 89,
   "metadata": {
    "collapsed": true
   },
   "outputs": [
    {
     "data": {
      "text/plain": [
       "[[PeriodicSite: Li (0.4215, 0.6677, 43.6915) [0.0616, 0.1330, 0.5266], 36],\n",
       " [PeriodicSite: Li (4.6346, 3.3803, 44.4147) [0.8119, 0.6733, 0.5347], 38],\n",
       " [PeriodicSite: O (1.4147, 2.3508, 44.6896) [0.2032, 0.4682, 0.5384], 111],\n",
       " [PeriodicSite: O (3.7489, 1.8847, 43.2348) [0.6855, 0.3754, 0.5206], 112],\n",
       " [PeriodicSite: O (2.8509, 4.4099, 44.0859) [0.4206, 0.8783, 0.5309], 114]]"
      ]
     },
     "execution_count": 89,
     "metadata": {},
     "output_type": "execute_result"
    }
   ],
   "source": [
    "#get rid of index part\n",
    "surface_sites = [site for site in all_surface_sites['bottom']]\n",
    "surface_sites"
   ]
  },
  {
   "cell_type": "code",
   "execution_count": 90,
   "metadata": {},
   "outputs": [
    {
     "data": {
      "text/plain": [
       "[[PeriodicSite: O (1.4147, 2.3508, 44.6896) [0.2032, 0.4682, 0.5384], 111],\n",
       " [PeriodicSite: O (3.7489, 1.8847, 43.2348) [0.6855, 0.3754, 0.5206], 112],\n",
       " [PeriodicSite: O (2.8509, 4.4099, 44.0859) [0.4206, 0.8783, 0.5309], 114]]"
      ]
     },
     "execution_count": 90,
     "metadata": {},
     "output_type": "execute_result"
    }
   ],
   "source": [
    "surface_oxygen = [site for site in surface_sites if str(site[0].specie) == \"O\"]\n",
    "surface_oxygen"
   ]
  },
  {
   "cell_type": "code",
   "execution_count": 112,
   "metadata": {},
   "outputs": [
    {
     "data": {
      "text/plain": [
       "'Li39 Mn18 O58'"
      ]
     },
     "execution_count": 112,
     "metadata": {},
     "output_type": "execute_result"
    }
   ],
   "source": [
    "slab_copy.formula"
   ]
  },
  {
   "cell_type": "code",
   "execution_count": 123,
   "metadata": {
    "collapsed": true
   },
   "outputs": [
    {
     "data": {
      "text/plain": [
       "[PeriodicSite: Li (0.8841, 1.9229, 81.0311) [0.1116, 0.3830, 0.9766],\n",
       " PeriodicSite: Li (3.4569, 2.3274, 82.3969) [0.6121, 0.4636, 0.9927],\n",
       " PeriodicSite: Li (5.0972, 4.6355, 81.7543) [0.8619, 0.9233, 0.9847],\n",
       " PeriodicSite: Li (3.4403, 1.4976, 79.6516) [0.6369, 0.2983, 0.9597],\n",
       " PeriodicSite: Li (3.4236, 0.6677, 76.9063) [0.6616, 0.1330, 0.9266],\n",
       " PeriodicSite: Li (0.9928, 1.0722, 78.2182) [0.1621, 0.2136, 0.9427],\n",
       " PeriodicSite: Li (2.6332, 3.3803, 77.5756) [0.4119, 0.6733, 0.9347],\n",
       " PeriodicSite: Li (0.9762, 0.2424, 75.4728) [0.1869, 0.0483, 0.9097],\n",
       " PeriodicSite: Li (1.8094, 4.4333, 72.7542) [0.2116, 0.8830, 0.8766],\n",
       " PeriodicSite: Li (4.3822, 4.8378, 74.1201) [0.7121, 0.9636, 0.8927],\n",
       " PeriodicSite: Li (5.1727, 2.1252, 73.4508) [0.9619, 0.4233, 0.8847],\n",
       " PeriodicSite: Li (4.3656, 4.0079, 71.3747) [0.7369, 0.7983, 0.8597],\n",
       " PeriodicSite: Li (4.3489, 3.1781, 68.6294) [0.7616, 0.6330, 0.8266],\n",
       " PeriodicSite: Li (1.9181, 3.5826, 69.9413) [0.2621, 0.7136, 0.8427],\n",
       " PeriodicSite: Li (2.7086, 0.8700, 69.2720) [0.5119, 0.1733, 0.8347],\n",
       " PeriodicSite: Li (1.9015, 2.7527, 67.1960) [0.2869, 0.5483, 0.8097],\n",
       " PeriodicSite: Li (1.8849, 1.9229, 64.4507) [0.3116, 0.3830, 0.7766],\n",
       " PeriodicSite: Li (4.4576, 2.3274, 65.8165) [0.8121, 0.4636, 0.7927],\n",
       " PeriodicSite: Li (1.0944, 4.6355, 65.1200) [0.0619, 0.9233, 0.7847],\n",
       " PeriodicSite: Li (4.4410, 1.4976, 63.0712) [0.8369, 0.2983, 0.7597],\n",
       " PeriodicSite: Li (4.4244, 0.6677, 60.3258) [0.8616, 0.1330, 0.7266],\n",
       " PeriodicSite: Li (1.9935, 1.0722, 61.6377) [0.3621, 0.2136, 0.7427],\n",
       " PeriodicSite: Li (3.6339, 3.3803, 60.9951) [0.6119, 0.6733, 0.7347],\n",
       " PeriodicSite: Li (1.9769, 0.2424, 58.8924) [0.3869, 0.0483, 0.7097],\n",
       " PeriodicSite: Li (2.8101, 4.4333, 56.1738) [0.4116, 0.8830, 0.6766],\n",
       " PeriodicSite: Li (5.3829, 4.8378, 57.5396) [0.9121, 0.9636, 0.6927],\n",
       " PeriodicSite: Li (1.1698, 2.1252, 56.8164) [0.1619, 0.4233, 0.6847],\n",
       " PeriodicSite: Li (5.3663, 4.0079, 54.7943) [0.9369, 0.7983, 0.6597],\n",
       " PeriodicSite: Li (5.3497, 3.1781, 52.0490) [0.9616, 0.6330, 0.6266],\n",
       " PeriodicSite: Li (2.9188, 3.5826, 53.3609) [0.4621, 0.7136, 0.6427],\n",
       " PeriodicSite: Li (3.7093, 0.8700, 52.6916) [0.7119, 0.1733, 0.6347],\n",
       " PeriodicSite: Li (2.9022, 2.7527, 50.6155) [0.4869, 0.5483, 0.6097],\n",
       " PeriodicSite: Li (2.8856, 1.9229, 47.8702) [0.5116, 0.3830, 0.5766],\n",
       " PeriodicSite: Li (0.4547, 2.3274, 49.1821) [0.0121, 0.4636, 0.5927],\n",
       " PeriodicSite: Li (2.0951, 4.6355, 48.5395) [0.2619, 0.9233, 0.5847],\n",
       " PeriodicSite: Li (0.4381, 1.4976, 46.4368) [0.0369, 0.2983, 0.5597],\n",
       " PeriodicSite: Li (0.4215, 0.6677, 43.6915) [0.0616, 0.1330, 0.5266],\n",
       " PeriodicSite: Li (2.9942, 1.0722, 45.0573) [0.5621, 0.2136, 0.5427],\n",
       " PeriodicSite: Li (4.6346, 3.3803, 44.4147) [0.8119, 0.6733, 0.5347],\n",
       " PeriodicSite: Mn (2.6047, 4.2177, 80.3452) [0.3779, 0.8401, 0.9680],\n",
       " PeriodicSite: Mn (5.1257, 3.7982, 78.9847) [0.8959, 0.7565, 0.9513],\n",
       " PeriodicSite: Mn (5.1442, 2.9625, 76.2204) [0.9279, 0.5901, 0.9180],\n",
       " PeriodicSite: Mn (2.6616, 2.5430, 74.8059) [0.4459, 0.5065, 0.9013],\n",
       " PeriodicSite: Mn (2.6801, 1.7073, 72.0416) [0.4779, 0.3401, 0.8680],\n",
       " PeriodicSite: Mn (5.2011, 1.2878, 70.6811) [0.9959, 0.2565, 0.8513],\n",
       " PeriodicSite: Mn (0.2160, 0.4521, 67.8629) [0.0279, 0.0901, 0.8180],\n",
       " PeriodicSite: Mn (2.7370, 0.0326, 66.5024) [0.5459, 0.0065, 0.8013],\n",
       " PeriodicSite: Mn (3.6054, 4.2177, 63.7648) [0.5779, 0.8401, 0.7680],\n",
       " PeriodicSite: Mn (1.1228, 3.7982, 62.3503) [0.0959, 0.7565, 0.7513],\n",
       " PeriodicSite: Mn (1.1413, 2.9625, 59.5860) [0.1279, 0.5901, 0.7180],\n",
       " PeriodicSite: Mn (3.6623, 2.5430, 58.2255) [0.6459, 0.5065, 0.7013],\n",
       " PeriodicSite: Mn (3.6808, 1.7073, 55.4612) [0.6779, 0.3401, 0.6680],\n",
       " PeriodicSite: Mn (1.1982, 1.2878, 54.0467) [0.1959, 0.2565, 0.6513],\n",
       " PeriodicSite: Mn (1.2168, 0.4521, 51.2825) [0.2279, 0.0901, 0.6180],\n",
       " PeriodicSite: Mn (3.7377, 0.0326, 49.9219) [0.7459, 0.0065, 0.6013],\n",
       " PeriodicSite: Mn (4.6061, 4.2177, 47.1843) [0.7779, 0.8401, 0.5680],\n",
       " PeriodicSite: Mn (2.1235, 3.7982, 45.7699) [0.2959, 0.7565, 0.5513],\n",
       " PeriodicSite: O (1.8773, 3.6060, 82.0292) [0.2532, 0.7182, 0.9884],\n",
       " PeriodicSite: O (0.1555, 0.1958, 79.8902) [0.0244, 0.0390, 0.9630],\n",
       " PeriodicSite: O (4.2116, 3.1399, 80.5744) [0.7355, 0.6254, 0.9706],\n",
       " PeriodicSite: O (5.1330, 1.1104, 82.9075) [0.9883, 0.2212, 0.9987],\n",
       " PeriodicSite: O (1.7215, 2.7993, 79.3590) [0.2493, 0.5575, 0.9563],\n",
       " PeriodicSite: O (2.4637, 0.6443, 81.3988) [0.4706, 0.1283, 0.9809],\n",
       " PeriodicSite: O (4.4168, 2.3508, 77.9044) [0.8032, 0.4682, 0.9384],\n",
       " PeriodicSite: O (3.5449, 3.9614, 75.7921) [0.5744, 0.7890, 0.9130],\n",
       " PeriodicSite: O (1.7475, 1.8847, 76.3957) [0.2855, 0.3754, 0.9206],\n",
       " PeriodicSite: O (3.5188, 4.8760, 78.7555) [0.5383, 0.9712, 0.9487],\n",
       " PeriodicSite: O (4.2610, 1.5441, 75.2342) [0.7993, 0.3075, 0.9063],\n",
       " PeriodicSite: O (0.8495, 4.4099, 77.2468) [0.0206, 0.8783, 0.9309],\n",
       " PeriodicSite: O (1.9527, 1.0956, 73.7256) [0.3532, 0.2182, 0.8884],\n",
       " PeriodicSite: O (1.0808, 2.7062, 71.6134) [0.1244, 0.5390, 0.8630],\n",
       " PeriodicSite: O (4.2870, 0.6295, 72.2708) [0.8355, 0.1254, 0.8706],\n",
       " PeriodicSite: O (1.0547, 3.6208, 74.5767) [0.0883, 0.7212, 0.8987],\n",
       " PeriodicSite: O (1.7969, 0.2889, 71.0554) [0.3493, 0.0575, 0.8563],\n",
       " PeriodicSite: O (3.3890, 3.1547, 73.1220) [0.5706, 0.6283, 0.8809],\n",
       " PeriodicSite: O (5.3421, 4.8612, 69.6275) [0.9032, 0.9682, 0.8384],\n",
       " PeriodicSite: O (3.6203, 1.4510, 67.4886) [0.6744, 0.2890, 0.8130],\n",
       " PeriodicSite: O (2.6728, 4.3951, 68.1188) [0.3855, 0.8754, 0.8206],\n",
       " PeriodicSite: O (3.5942, 2.3656, 70.4519) [0.6383, 0.4712, 0.8487],\n",
       " PeriodicSite: O (5.1863, 4.0545, 66.9573) [0.8993, 0.8075, 0.8063],\n",
       " PeriodicSite: O (0.9249, 1.8995, 68.9432) [0.1206, 0.3783, 0.8309],\n",
       " PeriodicSite: O (2.8780, 3.6060, 65.4488) [0.4532, 0.7182, 0.7884],\n",
       " PeriodicSite: O (1.1562, 0.1958, 63.3098) [0.2244, 0.0390, 0.7630],\n",
       " PeriodicSite: O (5.2123, 3.1399, 63.9940) [0.9355, 0.6254, 0.7706],\n",
       " PeriodicSite: O (1.1302, 1.1104, 66.2732) [0.1883, 0.2212, 0.7987],\n",
       " PeriodicSite: O (2.7222, 2.7993, 62.7786) [0.4493, 0.5575, 0.7563],\n",
       " PeriodicSite: O (3.4644, 0.6443, 64.8184) [0.6706, 0.1283, 0.7809],\n",
       " PeriodicSite: O (0.4139, 2.3508, 61.2700) [0.0032, 0.4682, 0.7384],\n",
       " PeriodicSite: O (4.5456, 3.9614, 59.2117) [0.7744, 0.7890, 0.7130],\n",
       " PeriodicSite: O (2.7482, 1.8847, 59.8152) [0.4855, 0.3754, 0.7206],\n",
       " PeriodicSite: O (4.5195, 4.8760, 62.1751) [0.7383, 0.9712, 0.7487],\n",
       " PeriodicSite: O (5.2617, 1.5441, 58.6538) [0.9993, 0.3075, 0.7063],\n",
       " PeriodicSite: O (1.8502, 4.4099, 60.6663) [0.2206, 0.8783, 0.7309],\n",
       " PeriodicSite: O (2.9534, 1.0956, 57.1452) [0.5532, 0.2182, 0.6884],\n",
       " PeriodicSite: O (2.0815, 2.7062, 55.0329) [0.3244, 0.5390, 0.6630],\n",
       " PeriodicSite: O (0.2841, 0.6295, 55.6365) [0.0355, 0.1254, 0.6706],\n",
       " PeriodicSite: O (2.0554, 3.6208, 57.9963) [0.2883, 0.7212, 0.6987],\n",
       " PeriodicSite: O (2.7976, 0.2889, 54.4750) [0.5493, 0.0575, 0.6563],\n",
       " PeriodicSite: O (4.3897, 3.1547, 56.5415) [0.7706, 0.6283, 0.6809],\n",
       " PeriodicSite: O (1.3392, 4.8612, 52.9932) [0.1032, 0.9682, 0.6384],\n",
       " PeriodicSite: O (4.6210, 1.4510, 50.9081) [0.8744, 0.2890, 0.6130],\n",
       " PeriodicSite: O (3.6735, 4.3951, 51.5384) [0.5855, 0.8754, 0.6206],\n",
       " PeriodicSite: O (4.5949, 2.3656, 53.8715) [0.8383, 0.4712, 0.6487],\n",
       " PeriodicSite: O (1.1834, 4.0545, 50.3230) [0.0993, 0.8075, 0.6063],\n",
       " PeriodicSite: O (1.9256, 1.8995, 52.3628) [0.3206, 0.3783, 0.6309],\n",
       " PeriodicSite: O (3.8787, 3.6060, 48.8683) [0.6532, 0.7182, 0.5884],\n",
       " PeriodicSite: O (2.1569, 0.1958, 46.7294) [0.4244, 0.0390, 0.5630],\n",
       " PeriodicSite: O (1.2094, 3.1399, 47.3596) [0.1355, 0.6254, 0.5706],\n",
       " PeriodicSite: O (2.1309, 1.1104, 49.6927) [0.3883, 0.2212, 0.5987],\n",
       " PeriodicSite: O (3.7229, 2.7993, 46.1981) [0.6493, 0.5575, 0.5563],\n",
       " PeriodicSite: O (4.4651, 0.6443, 48.2379) [0.8706, 0.1283, 0.5809],\n",
       " PeriodicSite: O (1.4147, 2.3508, 44.6896) [0.2032, 0.4682, 0.5384],\n",
       " PeriodicSite: O (3.7489, 1.8847, 43.2348) [0.6855, 0.3754, 0.5206],\n",
       " PeriodicSite: O (5.5202, 4.8760, 45.5946) [0.9383, 0.9712, 0.5487],\n",
       " PeriodicSite: O (2.8509, 4.4099, 44.0859) [0.4206, 0.8783, 0.5309]]"
      ]
     },
     "execution_count": 123,
     "metadata": {},
     "output_type": "execute_result"
    }
   ],
   "source": [
    "slab_copy = all_slabs_corrected_wyckoff[5].copy()\n",
    "slab_copy.sites"
   ]
  },
  {
   "cell_type": "code",
   "execution_count": 124,
   "metadata": {},
   "outputs": [],
   "source": [
    "for i in range(58, 110, 3):\n",
    "    slab_copy.replace(i, 'F')"
   ]
  },
  {
   "cell_type": "code",
   "execution_count": 125,
   "metadata": {},
   "outputs": [
    {
     "data": {
      "text/plain": [
       "'Li39 Mn18 O40 F18'"
      ]
     },
     "execution_count": 125,
     "metadata": {},
     "output_type": "execute_result"
    }
   ],
   "source": [
    "slab_copy.formula"
   ]
  },
  {
   "cell_type": "code",
   "execution_count": 151,
   "metadata": {},
   "outputs": [],
   "source": [
    "def view_in_ovito(structure):\n",
    "    structure.sites.sort()\n",
    "    poscar = Poscar(structure)\n",
    "    os.chdir(\"/Applications/Ovito.app/Contents/MacOS\")\n",
    "    txt = open('poscar.txt', 'w')\n",
    "    txt.write(str(poscar))\n",
    "    txt.close()\n",
    "    py = open('ovitopy.py', 'w')\n",
    "    py.write(\"from ovito.io import import_file\\nnode = import_file(\\\"poscar.txt\\\")\\nnode.add_to_scene()\")\n",
    "    py.close()\n",
    "    os.system(\"./ovitos -g ovitopy.py\")"
   ]
  },
  {
   "cell_type": "code",
   "execution_count": 152,
   "metadata": {},
   "outputs": [],
   "source": [
    "view_in_ovito(test_move_copy)"
   ]
  },
  {
   "cell_type": "code",
   "execution_count": 93,
   "metadata": {},
   "outputs": [],
   "source": [
    "#find amount of lithium excess\n",
    "def Li_excess(slab):\n",
    "    num_Li = len([site for site in slab.sites if str(site.specie) == 'Li'])\n",
    "    num_O = len([site for site in slab.sites if str(site.specie) == 'O'])\n",
    "    num_Mn = len([site for site in slab.sites if str(site.specie) == 'Mn'])\n",
    "    return num_Li / (num_O / 3)"
   ]
  },
  {
   "cell_type": "code",
   "execution_count": 94,
   "metadata": {},
   "outputs": [],
   "source": [
    "def update_wyckoff(slab):\n",
    "    four_h_sites = [site for site in slab.sites if str(site.wyckoff) == '4h']\n",
    "    two_b_sites = [site for site in slab.sites if str(site.wyckoff) == '2b']\n",
    "    two_c_sites = [site for site in slab.sites if str(site.wyckoff) == '2c']\n",
    "    return four_h_sites, two_b_sites, two_c_sites"
   ]
  },
  {
   "cell_type": "code",
   "execution_count": 45,
   "metadata": {},
   "outputs": [],
   "source": [
    "def remove_Li_site(slab, wyckoff):\n",
    "    new_slab = slab.copy()\n",
    "    four_h_sites, two_b_sites, two_c_sites = update_wyckoff(new_slab)\n",
    "    if wyckoff == '4h':\n",
    "        site = four_h_sites[0]\n",
    "        new_slab.symmetrically_remove_atoms([new_slab.sites.index(site)])\n",
    "    elif wyckoff == '2b':\n",
    "        site = two_b_sites[0]\n",
    "        new_slab.symmetrically_remove_atoms([new_slab.sites.index(site)])\n",
    "    elif wyckoff == '2c':\n",
    "        site = two_c_sites[0]\n",
    "        new_slab.symmetrically_remove_atoms([new_slab.sites.index(site)])\n",
    "    return new_slab"
   ]
  },
  {
   "cell_type": "code",
   "execution_count": 96,
   "metadata": {},
   "outputs": [],
   "source": [
    "def remove_O_site(slab, oxygen):\n",
    "    new_slab = slab.copy()\n",
    "    new_slab.symmetrically_remove_atoms([new_slab.sites.index(oxygen)])\n",
    "    return new_slab\n",
    "    "
   ]
  },
  {
   "cell_type": "code",
   "execution_count": 97,
   "metadata": {},
   "outputs": [
    {
     "data": {
      "text/plain": [
       "\"\\nNotes\\n\\nworkflow:\\n    # for each slab do a structure optimization\\n    # remove an oxygen ion\\n        # remove lithium atoms one by one according to the rules of yongwoo's paper\\n        # run slab workflow/firework each time\\n        # calculate the oxygen release energy: E_O = E^slab_O-x' + dmu_O - E^slab\\n        # where E^slab_O-x' is x' oxygen deficient slab energy\\n        # dmu_O = mu_O - mu^*\\n        # mu^* is reference chemical potential --obtained by calibrating the formation \\n          enthalpies with experimental measurements of various oxides. References: (56, 57)--\\n        # E^slab_O-x' and  E^slab are total potential energies that vasp will give.\\n        # Repeat for a different removed oxygen and then average the energies\\n        \\nFrom Yongwoo's paper:\\n    \\n        # Removing Li\\n        --Specifically, some Li in the 4h sites are extracted in the early delithation process \\n        (1.75 < x < 2.0), some Li in the 4h and 2b sites are extracted for 1.5 < x < 1.75, and \\n        afterward, some 2b Li and all 2c Li are extracted for 1.25 < x < 1.5. Finally, all Li \\n        in the 2b sites are extracted in the range 1.0 < x < 1.25. At x = 1, the remaining Li \\n        are all occupying 4h sites in the Li layer.--\\n        --> take 4h Li until 1.75 is reached\\n        --> take 4h and 2b (in equal amounts?) until 1.5\\n        --> take all 2c and then 2b until 1.25\\n        --> take all 2b until 1\\n        --> at this point all Li should be in 4h\\n        \\n        # Methods\\n        --Our slab model contained more than 10 bulk layers with fixed atomic coordinates taken\\n        from previous bulk examinations. The first five surface and subsurface layers are fully\\n        relaxed, and the slab is terminated by more than a 15 Å vacuum interval. The total\\n        energy results were calculated using density functional theory (DFT) as implemented \\n        by the Vienna ab inito simulation package (VASP)59−62 with the projector augmented \\n        wave (PAW)63,64 pseudopotential method. The exchange correlation functional is chosen \\n        as the generalized gradient approximation (GGA+U)65−67 with an on-site Hubbard parameter \\n        (UMn = 3.9 eV68). The calculations were converged within 1 meV, enabled by a cutoff \\n        energy of 520 eV with an adjusted k-point sampling density with respect to the size \\n        of supercells. The cell parameters of stoichiometric Li2MnO3 were downloaded from the \\n        Materials Project (IDLi2MnO3: mp-18988).68,69-- \\n        \""
      ]
     },
     "execution_count": 97,
     "metadata": {},
     "output_type": "execute_result"
    }
   ],
   "source": [
    "\"\"\"\n",
    "Notes\n",
    "\n",
    "workflow:\n",
    "    # for each slab do a structure optimization\n",
    "    # remove an oxygen ion\n",
    "        # remove lithium atoms one by one according to the rules of yongwoo's paper\n",
    "        # run slab workflow/firework each time\n",
    "        # calculate the oxygen release energy: E_O = E^slab_O-x' + dmu_O - E^slab\n",
    "        # where E^slab_O-x' is x' oxygen deficient slab energy\n",
    "        # dmu_O = mu_O - mu^*\n",
    "        # mu^* is reference chemical potential --obtained by calibrating the formation \n",
    "          enthalpies with experimental measurements of various oxides. References: (56, 57)--\n",
    "        # E^slab_O-x' and  E^slab are total potential energies that vasp will give.\n",
    "        # Repeat for a different removed oxygen and then average the energies\n",
    "        \n",
    "From Yongwoo's paper:\n",
    "    \n",
    "        # Removing Li\n",
    "        --Specifically, some Li in the 4h sites are extracted in the early delithation process \n",
    "        (1.75 < x < 2.0), some Li in the 4h and 2b sites are extracted for 1.5 < x < 1.75, and \n",
    "        afterward, some 2b Li and all 2c Li are extracted for 1.25 < x < 1.5. Finally, all Li \n",
    "        in the 2b sites are extracted in the range 1.0 < x < 1.25. At x = 1, the remaining Li \n",
    "        are all occupying 4h sites in the Li layer.--\n",
    "        --> take 4h Li until 1.75 is reached\n",
    "        --> take 4h and 2b (in equal amounts?) until 1.5\n",
    "        --> take all 2c and then 2b until 1.25\n",
    "        --> take all 2b until 1\n",
    "        --> at this point all Li should be in 4h\n",
    "        \n",
    "        # Methods\n",
    "        --Our slab model contained more than 10 bulk layers with fixed atomic coordinates taken\n",
    "        from previous bulk examinations. The first five surface and subsurface layers are fully\n",
    "        relaxed, and the slab is terminated by more than a 15 Å vacuum interval. The total\n",
    "        energy results were calculated using density functional theory (DFT) as implemented \n",
    "        by the Vienna ab inito simulation package (VASP)59−62 with the projector augmented \n",
    "        wave (PAW)63,64 pseudopotential method. The exchange correlation functional is chosen \n",
    "        as the generalized gradient approximation (GGA+U)65−67 with an on-site Hubbard parameter \n",
    "        (UMn = 3.9 eV68). The calculations were converged within 1 meV, enabled by a cutoff \n",
    "        energy of 520 eV with an adjusted k-point sampling density with respect to the size \n",
    "        of supercells. The cell parameters of stoichiometric Li2MnO3 were downloaded from the \n",
    "        Materials Project (IDLi2MnO3: mp-18988).68,69-- \n",
    "        \"\"\""
   ]
  },
  {
   "cell_type": "code",
   "execution_count": 98,
   "metadata": {},
   "outputs": [],
   "source": [
    "new = slab_to_run.copy()"
   ]
  },
  {
   "cell_type": "code",
   "execution_count": 99,
   "metadata": {},
   "outputs": [
    {
     "name": "stdout",
     "output_type": "stream",
     "text": [
      "1.913793103448276\n",
      "20\n",
      "10\n",
      "7\n"
     ]
    }
   ],
   "source": [
    "new = remove_Li_site(new, '2c')\n",
    "print(Li_excess(new))\n",
    "print(len([site for site in new.sites if str(site.wyckoff) == '4h']))\n",
    "print(len([site for site in new.sites if str(site.wyckoff) == '2b']))\n",
    "print(len([site for site in new.sites if str(site.wyckoff) == '2c']))"
   ]
  },
  {
   "cell_type": "code",
   "execution_count": null,
   "metadata": {},
   "outputs": [],
   "source": []
  },
  {
   "cell_type": "code",
   "execution_count": null,
   "metadata": {
    "collapsed": true
   },
   "outputs": [],
   "source": [
    "from atomate.vasp.workflows.base.adsorption import get_slab_fw\n",
    "\n",
    "def o_evol_energy_wf(slab, vasp_cmd=\">>vasp_std<<\", db_file=\">>db_file<<\"):\n",
    "    \"\"\"\n",
    "    Returns surface oxygen evolution workflow.\n",
    "    Args:\n",
    "        Slab (Slab): input Slab.\n",
    "        vasp_cmd (str): vasp command to run.\n",
    "        db_file (str): path to the db file.\n",
    "        \n",
    "    Returns:\n",
    "        Workflow\n",
    "    \"\"\"\n",
    "    tag = datetime.utcnow().strftime('%Y-%m-%d-%H-%M-%S-%f') + 'miller:' +              \\\n",
    "        str(slab.miller_index) + 'shift:' + str(slab.shift) + '_original'\n",
    "        \n",
    "    # Slab firework to get info on unmodified slab\n",
    "    fws = [get_slab_fw(slab, vasp_cmd=vasp_cmd, db_file=db_file, \n",
    "                       name=\"{} slab optimization\".format(tag))]\n",
    "    \n",
    "    \n",
    "    # Remove an oxygen atom and get energy (Li = 2.0)\n",
    "    for O_site in surface_oxygen:\n",
    "        current_slab = remove_O_site(slab, O_site)\n",
    "        \n",
    "        tag = datetime.utcnow().strftime('%Y-%m-%d-%H-%M-%S-%f') + 'miller:' +   \\\n",
    "            str(slab.miller_index) + 'shift:' + str(slab.shift) + 'Li:' +             \\\n",
    "            str(Li_excess(current_slab)) + 'O_' + surface_oxygen.index(O_site)\n",
    "        #slab firework to get energy at Li = 2\n",
    "        fw = get_slab_fw(slab, vasp_cmd=vasp_cmd, db_file=db_file, \n",
    "                         name=\"{} slab optimization\".format(tag))\n",
    "        fws.append(fw)\n",
    "    \n",
    "        #remove some Li until Li = 1.5\n",
    "        while Li_excess(current_slab) >= 1.75:\n",
    "            current_slab = remove_Li_site(current_slab, '4h')\n",
    "        while Li_excess(current_slab) >= 1.5:\n",
    "            current_slab = remove_Li_site(current_slab, '4h')\n",
    "            if Li_excess(current_slab) <= 1.5:\n",
    "                continue\n",
    "            current_slab = remove_Li_site(current_slab, '2b')\n",
    "            \n",
    "        tag = datetime.utcnow().strftime('%Y-%m-%d-%H-%M-%S-%f') + 'miller:' +   \\\n",
    "            str(slab.miller_index) + 'shift:' + str(slab.shift) + 'Li:' +             \\\n",
    "            str(Li_excess(current_slab)) + 'O_' + surface_oxygen.index(O_site)\n",
    "        \n",
    "        # slab firework to get energy at Li = 1.5\n",
    "        fw = get_slab_fw(slab, vasp_cmd=vasp_cmd, db_file=db_file, \n",
    "                         name=\"{} slab optimization\".format(tag))\n",
    "        fws.append(fw)\n",
    "        \n",
    "        #remove Li until Li = 1.0\n",
    "        while Li_excess(current_slab) >= 1.25"
   ]
  }
 ],
 "metadata": {
  "kernelspec": {
   "display_name": "Python 3",
   "language": "python",
   "name": "python3"
  },
  "language_info": {
   "codemirror_mode": {
    "name": "ipython",
    "version": 3
   },
   "file_extension": ".py",
   "mimetype": "text/x-python",
   "name": "python",
   "nbconvert_exporter": "python",
   "pygments_lexer": "ipython3",
   "version": "3.7.0"
  }
 },
 "nbformat": 4,
 "nbformat_minor": 2
}
