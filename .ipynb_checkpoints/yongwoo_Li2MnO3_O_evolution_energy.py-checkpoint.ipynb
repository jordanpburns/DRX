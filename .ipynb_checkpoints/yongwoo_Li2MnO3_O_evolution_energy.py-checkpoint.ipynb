{
 "cells": [
  {
   "cell_type": "code",
   "execution_count": 523,
   "metadata": {},
   "outputs": [],
   "source": [
    "from pymatgen import Structure, MPRester, Lattice\n",
    "import os\n",
    "from subprocess import call\n",
    "# from math import sin, cos, sqrt, pi\n",
    "from pymatgen.core.surface import SlabGenerator, Slab\n",
    "from pymatgen.vis.structure_vtk import StructureVis\n",
    "#from atomate.vasp.fireworks.core import OptimizeFW\n",
    "from pymatgen.symmetry.analyzer import SpacegroupAnalyzer as SGA\n",
    "mpr = MPRester('xGTZsWPN3BoydaL4')\n",
    "from pymatgen.io.vasp.inputs import Poscar\n",
    "from pymatgen.io.lammps.data import LammpsData\n",
    "from pymatgen.analysis.adsorption import AdsorbateSiteFinder\n",
    "\n"
   ]
  },
  {
   "cell_type": "code",
   "execution_count": 713,
   "metadata": {},
   "outputs": [],
   "source": [
    "def move_to_other_side(slab, z_list):\n",
    "    slab_copy = slab.copy()\n",
    "    idx = slab_copy.index(z_list[-1])\n",
    "    slabgen_move = SlabGenerator(Structure.from_dict(Slab.as_dict(slab_copy)), [0,0,1], 1, 1, in_unit_planes = True)\n",
    "    new_slab = slabgen_move.move_to_other_side(slab_copy, [idx])\n",
    "    new_z_list = sorted(new_slab.sites, key = z_site)\n",
    "    return new_slab, new_z_list"
   ]
  },
  {
   "cell_type": "code",
   "execution_count": 525,
   "metadata": {},
   "outputs": [],
   "source": [
    "def view_in_ovito(structure):\n",
    "    structure.sites.sort()\n",
    "    poscar = Poscar(structure)\n",
    "    os.chdir(\"/Applications/Ovito.app/Contents/MacOS\")\n",
    "    txt = open('poscar.txt', 'w')\n",
    "    txt.write(str(poscar))\n",
    "    txt.close()\n",
    "    py = open('ovitopy.py', 'w')\n",
    "    py.write(\"from ovito.io import import_file\\nnode = import_file(\\\"poscar.txt\\\")\\nnode.add_to_scene()\")\n",
    "    py.close()\n",
    "    os.system(\"./ovitos -g ovitopy.py\")"
   ]
  },
  {
   "cell_type": "code",
   "execution_count": 544,
   "metadata": {},
   "outputs": [],
   "source": [
    "#import Li2MnO3 structure from materials project \n",
    "struct = mpr.get_structure_by_material_id(\"mp-18988\", conventional_unit_cell=True)"
   ]
  },
  {
   "cell_type": "code",
   "execution_count": 545,
   "metadata": {},
   "outputs": [],
   "source": [
    "# use relaxed structure\n",
    "#struct = Structure.from_file(filename='Li2MnO3_2.CONTCAR.txt')"
   ]
  },
  {
   "cell_type": "code",
   "execution_count": 546,
   "metadata": {},
   "outputs": [],
   "source": [
    "sga = SGA(struct)"
   ]
  },
  {
   "cell_type": "code",
   "execution_count": 547,
   "metadata": {},
   "outputs": [
    {
     "data": {
      "text/plain": [
       "('C2/m', 12)"
      ]
     },
     "execution_count": 547,
     "metadata": {},
     "output_type": "execute_result"
    }
   ],
   "source": [
    "struct.get_space_group_info()"
   ]
  },
  {
   "cell_type": "code",
   "execution_count": 548,
   "metadata": {},
   "outputs": [],
   "source": [
    "struct_sym = sga.get_symmetrized_structure()"
   ]
  },
  {
   "cell_type": "code",
   "execution_count": 549,
   "metadata": {},
   "outputs": [
    {
     "name": "stdout",
     "output_type": "stream",
     "text": [
      "['4h', '2c', '2b', '4g', '8j', '4i']\n"
     ]
    }
   ],
   "source": [
    "wyckoff_symbols = struct_sym.wyckoff_symbols\n",
    "print(wyckoff_symbols)"
   ]
  },
  {
   "cell_type": "code",
   "execution_count": 550,
   "metadata": {
    "scrolled": true
   },
   "outputs": [
    {
     "name": "stdout",
     "output_type": "stream",
     "text": [
      "['4h', '4h', '2c', '2b', '4h', '4h', '2c', '2b', '4g', '4g', '4g', '4g', '8j', '8j', '8j', '8j', '4i', '4i', '8j', '8j', '8j', '8j', '4i', '4i']\n"
     ]
    }
   ],
   "source": [
    "equiv_indices = struct_sym.equivalent_indices\n",
    "wyckoff_labels = ['']*len(struct_sym)\n",
    "for wyckoff_symbol, equiv_group in zip(wyckoff_symbols, equiv_indices):\n",
    "    for idx in equiv_group:\n",
    "        wyckoff_labels[idx] = wyckoff_symbol\n",
    "print(wyckoff_labels)"
   ]
  },
  {
   "cell_type": "code",
   "execution_count": 551,
   "metadata": {},
   "outputs": [
    {
     "name": "stdout",
     "output_type": "stream",
     "text": [
      "Full Formula (Li8 Mn4 O12)\n",
      "Reduced Formula: Li2MnO3\n",
      "abc   :   5.016082   8.663979   5.105791\n",
      "angles:  90.000000 109.595566  90.000000\n",
      "Sites (24)\n",
      "  #  SP           a         b         c  wyckoff\n",
      "---  ----  --------  --------  --------  ---------\n",
      "  0  Li    0.5       0.161294  0.5       4h\n",
      "  1  Li    0.5       0.838706  0.5       4h\n",
      "  2  Li    0         0         0.5       2c\n",
      "  3  Li    0.5       0         0         2b\n",
      "  4  Li    0         0.661294  0.5       4h\n",
      "  5  Li    0         0.338706  0.5       4h\n",
      "  6  Li    0.5       0.5       0.5       2c\n",
      "  7  Li    0         0.5       0         2b\n",
      "  8  Mn    0.5       0.332935  0         4g\n",
      "  9  Mn    0.5       0.667065  0         4g\n",
      " 10  Mn    0         0.832935  0         4g\n",
      " 11  Mn    0         0.167065  0         4g\n",
      " 12  O     0.245113  0.178658  0.776528  8j\n",
      " 13  O     0.245113  0.821342  0.776528  8j\n",
      " 14  O     0.754887  0.821342  0.223472  8j\n",
      " 15  O     0.754887  0.178658  0.223472  8j\n",
      " 16  O     0.78082   0         0.772508  4i\n",
      " 17  O     0.21918   0         0.227492  4i\n",
      " 18  O     0.745113  0.678658  0.776528  8j\n",
      " 19  O     0.745113  0.321342  0.776528  8j\n",
      " 20  O     0.254887  0.321342  0.223472  8j\n",
      " 21  O     0.254887  0.678658  0.223472  8j\n",
      " 22  O     0.28082   0.5       0.772508  4i\n",
      " 23  O     0.71918   0.5       0.227492  4i\n"
     ]
    }
   ],
   "source": [
    "struct_sym.add_site_property('wyckoff', wyckoff_labels)\n",
    "print(struct_sym)\n",
    "struct_sym = Structure.from_sites(struct_sym.sites)"
   ]
  },
  {
   "cell_type": "code",
   "execution_count": 552,
   "metadata": {},
   "outputs": [],
   "source": [
    "slabgen_wyckoff = SlabGenerator(struct_sym, [0, 0, 1], 10 , 10, in_unit_planes=True)\n",
    "slabs_wyckoff = slabgen_wyckoff.get_slabs()\n",
    "all_slabs_corrected_wyckoff = [slabgen_wyckoff.nonstoichiometric_symmetrized_slab(slab)\n",
    "                               for slab in slabs_wyckoff]\n",
    "all_slabs_corrected_wyckoff = sum(all_slabs_corrected_wyckoff, [])"
   ]
  },
  {
   "cell_type": "markdown",
   "metadata": {},
   "source": [
    "# testing nonstoichiometric_symmetrized_slab correction of dipole"
   ]
  },
  {
   "cell_type": "code",
   "execution_count": 553,
   "metadata": {},
   "outputs": [],
   "source": [
    "from pymatgen.analysis.bond_valence import BVAnalyzer\n",
    "bva_analyzer = BVAnalyzer()"
   ]
  },
  {
   "cell_type": "code",
   "execution_count": 554,
   "metadata": {},
   "outputs": [],
   "source": [
    "bva_struct = bva_analyzer.get_oxi_state_decorated_structure(struct_sym)"
   ]
  },
  {
   "cell_type": "code",
   "execution_count": 555,
   "metadata": {},
   "outputs": [],
   "source": [
    "slabgen_bva_before_sym = SlabGenerator(bva_struct, [0,0,1], 1 , 1, in_unit_planes=True)\n",
    "slabs_bva_before = slabgen_bva_before_sym.get_slabs()"
   ]
  },
  {
   "cell_type": "code",
   "execution_count": 558,
   "metadata": {},
   "outputs": [],
   "source": [
    "slabgen_bva = SlabGenerator(bva_struct, [0,0,1], 1 , 1, in_unit_planes=True)\n",
    "slabs_bva = slabgen_bva.get_slabs()"
   ]
  },
  {
   "cell_type": "markdown",
   "metadata": {},
   "source": [
    "## test getting rid of dipole with Slab.move_to_other_side"
   ]
  },
  {
   "cell_type": "code",
   "execution_count": 771,
   "metadata": {},
   "outputs": [],
   "source": [
    "test_move = slabs_bva_before[1]"
   ]
  },
  {
   "cell_type": "code",
   "execution_count": 772,
   "metadata": {},
   "outputs": [],
   "source": [
    "test_move_copy = test_move.copy()"
   ]
  },
  {
   "cell_type": "code",
   "execution_count": 773,
   "metadata": {},
   "outputs": [],
   "source": [
    "test_move_copy.make_supercell([1,2,1])"
   ]
  },
  {
   "cell_type": "code",
   "execution_count": 774,
   "metadata": {},
   "outputs": [],
   "source": [
    "def z_site(site):\n",
    "    return site.z\n",
    "sites_in_z_order = sorted(test_move_copy.sites, key = z_site)"
   ]
  },
  {
   "cell_type": "code",
   "execution_count": 775,
   "metadata": {},
   "outputs": [],
   "source": [
    "slabgen_move = SlabGenerator(Structure.from_dict(Slab.as_dict(test_move_copy)), [0,0,1], 1, 1, in_unit_planes = True)"
   ]
  },
  {
   "cell_type": "code",
   "execution_count": 776,
   "metadata": {},
   "outputs": [],
   "source": [
    "zero_dipole_slabs = []\n",
    "for i in range(len(sites_in_z_order)):\n",
    "    test_move_copy, sites_in_z_order = move_to_other_side(test_move_copy, sites_in_z_order)\n",
    "    if abs(test_move_copy.dipole[2]) < 10**-5:\n",
    "        zero_dipole_slabs.append(test_move_copy.copy())"
   ]
  },
  {
   "cell_type": "code",
   "execution_count": 777,
   "metadata": {
    "scrolled": true
   },
   "outputs": [
    {
     "data": {
      "text/plain": [
       "2"
      ]
     },
     "execution_count": 777,
     "metadata": {},
     "output_type": "execute_result"
    }
   ],
   "source": [
    "len(zero_dipole_slabs)"
   ]
  },
  {
   "cell_type": "code",
   "execution_count": 784,
   "metadata": {},
   "outputs": [],
   "source": [
    "myslab = zero_dipole_slabs[0]\n",
    "sites_in_z_order = sorted(myslab.sites, key = z_site)"
   ]
  },
  {
   "cell_type": "code",
   "execution_count": 785,
   "metadata": {},
   "outputs": [
    {
     "data": {
      "text/plain": [
       "['2c', '4h', '4h', '2c', '4h', '4h']"
      ]
     },
     "execution_count": 785,
     "metadata": {},
     "output_type": "execute_result"
    }
   ],
   "source": [
    "surface_Li = sites_in_z_order[:3] + sites_in_z_order[-3:]\n",
    "[site.wyckoff for site in surface_Li]"
   ]
  },
  {
   "cell_type": "code",
   "execution_count": 786,
   "metadata": {},
   "outputs": [],
   "source": [
    "surface_Li_indicies = [myslab.index(site) for site in surface_Li]"
   ]
  },
  {
   "cell_type": "code",
   "execution_count": 791,
   "metadata": {},
   "outputs": [],
   "source": [
    "view_in_ovito(myslab)"
   ]
  },
  {
   "cell_type": "code",
   "execution_count": 789,
   "metadata": {},
   "outputs": [],
   "source": [
    "myslab.remove_sites(surface_Li_indicies)"
   ]
  },
  {
   "cell_type": "code",
   "execution_count": 452,
   "metadata": {},
   "outputs": [],
   "source": [
    "#myslab.symmetrically_add_atom('Li+', [3.1,1.07,12.6], coords_are_cartesian=True)\n",
    "#myslab.symmetrically_add_atom('Li+', [0.55,6.7,12.4], coords_are_cartesian=True)\n",
    "#myslab.symmetrically_add_atom('Li+', [0.575,3.9,12.4], coords_are_cartesian=True)"
   ]
  },
  {
   "cell_type": "code",
   "execution_count": 645,
   "metadata": {},
   "outputs": [],
   "source": [
    "view_in_ovito(test_move_copy)"
   ]
  },
  {
   "cell_type": "code",
   "execution_count": 308,
   "metadata": {},
   "outputs": [],
   "source": [
    "# get all of the surface sites and then choose just the oxygen\n",
    "all_surface_sites = Slab.get_surface_sites(test_move_copy, tag=True)"
   ]
  },
  {
   "cell_type": "code",
   "execution_count": 88,
   "metadata": {},
   "outputs": [],
   "source": [
    "# finds all slabs that don't have Mn on the surface\n",
    "#[slab for slab in all_slabs_corrected_wyckoff if 'Mn' not in \n",
    "#    [str(site[0].specie) for site in Slab.get_surface_sites(slab, tag=True)['top']]]"
   ]
  },
  {
   "cell_type": "code",
   "execution_count": 70,
   "metadata": {
    "collapsed": true
   },
   "outputs": [
    {
     "data": {
      "text/plain": [
       "{'top': [[PeriodicSite: Li+ (-0.0381, 7.1401, 11.6944) [0.8399, 0.8318, 0.6537],\n",
       "   1],\n",
       "  [PeriodicSite: Li+ (-2.5965, 5.7352, 12.1057) [0.1601, 0.6682, 0.6532], 5],\n",
       "  [PeriodicSite: Li+ (3.1042, 1.0736, 9.8817) [0.7498, 0.1251, 0.5284], 10],\n",
       "  [PeriodicSite: Li+ (2.4937, 0.0000, 12.5273) [0.5000, 0.0000, 0.6534], 14],\n",
       "  [PeriodicSite: O2- (1.4134, 1.2303, 11.0907) [0.4294, 0.1433, 0.5844], 26],\n",
       "  [PeriodicSite: O2- (-1.1273, 5.5221, 10.6725) [0.4294, 0.6433, 0.5844], 27],\n",
       "  [PeriodicSite: O2- (1.5624, 3.9894, 10.6730) [0.7868, 0.4648, 0.5844], 44],\n",
       "  [PeriodicSite: O2- (-0.9783, 8.2812, 10.2548) [0.7868, 0.9648, 0.5844], 45]],\n",
       " 'bottom': [[PeriodicSite: Li+ (2.5026, 2.8483, 2.3667) [0.8399, 0.3318, 0.1537],\n",
       "   0],\n",
       "  [PeriodicSite: Li+ (-3.1981, 7.5099, 4.5906) [0.2502, 0.8749, 0.2784], 3],\n",
       "  [PeriodicSite: Li+ (-0.0558, 1.4434, 2.7779) [0.1601, 0.1682, 0.1532], 4],\n",
       "  [PeriodicSite: Li+ (-0.0470, 4.2918, 2.3632) [0.5000, 0.5000, 0.1534], 15],\n",
       "  [PeriodicSite: O2- (3.3626, 1.5243, 3.8129) [0.8551, 0.1776, 0.2216], 32],\n",
       "  [PeriodicSite: O2- (0.8219, 5.8161, 3.3947) [0.8551, 0.6776, 0.2216], 33],\n",
       "  [PeriodicSite: O2- (0.8844, 0.3024, 4.2176) [0.2132, 0.0352, 0.2225], 42]]}"
      ]
     },
     "execution_count": 70,
     "metadata": {},
     "output_type": "execute_result"
    }
   ],
   "source": [
    "all_surface_sites"
   ]
  },
  {
   "cell_type": "code",
   "execution_count": 309,
   "metadata": {},
   "outputs": [],
   "source": [
    "#get rid of index part\n",
    "surface_sites = [site for site in all_surface_sites['top']]"
   ]
  },
  {
   "cell_type": "code",
   "execution_count": 310,
   "metadata": {},
   "outputs": [],
   "source": [
    "surface_oxygen = [site for site in surface_sites if str(site[0].specie) == \"O2-\"]"
   ]
  },
  {
   "cell_type": "code",
   "execution_count": 484,
   "metadata": {},
   "outputs": [],
   "source": [
    "slab = test_move_copy.copy()"
   ]
  },
  {
   "cell_type": "code",
   "execution_count": 507,
   "metadata": {},
   "outputs": [],
   "source": [
    "slab = remove_Li_site(slab,'', remembered_4h)"
   ]
  },
  {
   "cell_type": "code",
   "execution_count": 508,
   "metadata": {},
   "outputs": [
    {
     "data": {
      "text/plain": [
       "0.75"
      ]
     },
     "execution_count": 508,
     "metadata": {},
     "output_type": "execute_result"
    }
   ],
   "source": [
    "Li_excess(slab)"
   ]
  },
  {
   "cell_type": "code",
   "execution_count": 471,
   "metadata": {},
   "outputs": [],
   "source": [
    "view_in_ovito(slab)"
   ]
  },
  {
   "cell_type": "code",
   "execution_count": 454,
   "metadata": {
    "collapsed": true
   },
   "outputs": [
    {
     "data": {
      "text/plain": [
       "[[PeriodicSite: O2- (1.4134, 1.2303, 11.0907) [0.4294, 0.1433, 0.5844], 26],\n",
       " [PeriodicSite: O2- (-0.9159, 2.7675, 11.0776) [0.1449, 0.3224, 0.5853], 30],\n",
       " [PeriodicSite: O2- (-3.4565, 7.0593, 10.6595) [0.1449, 0.8224, 0.5853], 31],\n",
       " [PeriodicSite: O2- (1.5624, 3.9894, 10.6730) [0.7868, 0.4648, 0.5844], 44],\n",
       " [PeriodicSite: O2- (-0.9783, 8.2812, 10.2548) [0.7868, 0.9648, 0.5844], 45]]"
      ]
     },
     "execution_count": 454,
     "metadata": {},
     "output_type": "execute_result"
    }
   ],
   "source": [
    "surface_oxygen"
   ]
  },
  {
   "cell_type": "code",
   "execution_count": 123,
   "metadata": {
    "collapsed": true
   },
   "outputs": [
    {
     "data": {
      "text/plain": [
       "[PeriodicSite: Li (0.8841, 1.9229, 81.0311) [0.1116, 0.3830, 0.9766],\n",
       " PeriodicSite: Li (3.4569, 2.3274, 82.3969) [0.6121, 0.4636, 0.9927],\n",
       " PeriodicSite: Li (5.0972, 4.6355, 81.7543) [0.8619, 0.9233, 0.9847],\n",
       " PeriodicSite: Li (3.4403, 1.4976, 79.6516) [0.6369, 0.2983, 0.9597],\n",
       " PeriodicSite: Li (3.4236, 0.6677, 76.9063) [0.6616, 0.1330, 0.9266],\n",
       " PeriodicSite: Li (0.9928, 1.0722, 78.2182) [0.1621, 0.2136, 0.9427],\n",
       " PeriodicSite: Li (2.6332, 3.3803, 77.5756) [0.4119, 0.6733, 0.9347],\n",
       " PeriodicSite: Li (0.9762, 0.2424, 75.4728) [0.1869, 0.0483, 0.9097],\n",
       " PeriodicSite: Li (1.8094, 4.4333, 72.7542) [0.2116, 0.8830, 0.8766],\n",
       " PeriodicSite: Li (4.3822, 4.8378, 74.1201) [0.7121, 0.9636, 0.8927],\n",
       " PeriodicSite: Li (5.1727, 2.1252, 73.4508) [0.9619, 0.4233, 0.8847],\n",
       " PeriodicSite: Li (4.3656, 4.0079, 71.3747) [0.7369, 0.7983, 0.8597],\n",
       " PeriodicSite: Li (4.3489, 3.1781, 68.6294) [0.7616, 0.6330, 0.8266],\n",
       " PeriodicSite: Li (1.9181, 3.5826, 69.9413) [0.2621, 0.7136, 0.8427],\n",
       " PeriodicSite: Li (2.7086, 0.8700, 69.2720) [0.5119, 0.1733, 0.8347],\n",
       " PeriodicSite: Li (1.9015, 2.7527, 67.1960) [0.2869, 0.5483, 0.8097],\n",
       " PeriodicSite: Li (1.8849, 1.9229, 64.4507) [0.3116, 0.3830, 0.7766],\n",
       " PeriodicSite: Li (4.4576, 2.3274, 65.8165) [0.8121, 0.4636, 0.7927],\n",
       " PeriodicSite: Li (1.0944, 4.6355, 65.1200) [0.0619, 0.9233, 0.7847],\n",
       " PeriodicSite: Li (4.4410, 1.4976, 63.0712) [0.8369, 0.2983, 0.7597],\n",
       " PeriodicSite: Li (4.4244, 0.6677, 60.3258) [0.8616, 0.1330, 0.7266],\n",
       " PeriodicSite: Li (1.9935, 1.0722, 61.6377) [0.3621, 0.2136, 0.7427],\n",
       " PeriodicSite: Li (3.6339, 3.3803, 60.9951) [0.6119, 0.6733, 0.7347],\n",
       " PeriodicSite: Li (1.9769, 0.2424, 58.8924) [0.3869, 0.0483, 0.7097],\n",
       " PeriodicSite: Li (2.8101, 4.4333, 56.1738) [0.4116, 0.8830, 0.6766],\n",
       " PeriodicSite: Li (5.3829, 4.8378, 57.5396) [0.9121, 0.9636, 0.6927],\n",
       " PeriodicSite: Li (1.1698, 2.1252, 56.8164) [0.1619, 0.4233, 0.6847],\n",
       " PeriodicSite: Li (5.3663, 4.0079, 54.7943) [0.9369, 0.7983, 0.6597],\n",
       " PeriodicSite: Li (5.3497, 3.1781, 52.0490) [0.9616, 0.6330, 0.6266],\n",
       " PeriodicSite: Li (2.9188, 3.5826, 53.3609) [0.4621, 0.7136, 0.6427],\n",
       " PeriodicSite: Li (3.7093, 0.8700, 52.6916) [0.7119, 0.1733, 0.6347],\n",
       " PeriodicSite: Li (2.9022, 2.7527, 50.6155) [0.4869, 0.5483, 0.6097],\n",
       " PeriodicSite: Li (2.8856, 1.9229, 47.8702) [0.5116, 0.3830, 0.5766],\n",
       " PeriodicSite: Li (0.4547, 2.3274, 49.1821) [0.0121, 0.4636, 0.5927],\n",
       " PeriodicSite: Li (2.0951, 4.6355, 48.5395) [0.2619, 0.9233, 0.5847],\n",
       " PeriodicSite: Li (0.4381, 1.4976, 46.4368) [0.0369, 0.2983, 0.5597],\n",
       " PeriodicSite: Li (0.4215, 0.6677, 43.6915) [0.0616, 0.1330, 0.5266],\n",
       " PeriodicSite: Li (2.9942, 1.0722, 45.0573) [0.5621, 0.2136, 0.5427],\n",
       " PeriodicSite: Li (4.6346, 3.3803, 44.4147) [0.8119, 0.6733, 0.5347],\n",
       " PeriodicSite: Mn (2.6047, 4.2177, 80.3452) [0.3779, 0.8401, 0.9680],\n",
       " PeriodicSite: Mn (5.1257, 3.7982, 78.9847) [0.8959, 0.7565, 0.9513],\n",
       " PeriodicSite: Mn (5.1442, 2.9625, 76.2204) [0.9279, 0.5901, 0.9180],\n",
       " PeriodicSite: Mn (2.6616, 2.5430, 74.8059) [0.4459, 0.5065, 0.9013],\n",
       " PeriodicSite: Mn (2.6801, 1.7073, 72.0416) [0.4779, 0.3401, 0.8680],\n",
       " PeriodicSite: Mn (5.2011, 1.2878, 70.6811) [0.9959, 0.2565, 0.8513],\n",
       " PeriodicSite: Mn (0.2160, 0.4521, 67.8629) [0.0279, 0.0901, 0.8180],\n",
       " PeriodicSite: Mn (2.7370, 0.0326, 66.5024) [0.5459, 0.0065, 0.8013],\n",
       " PeriodicSite: Mn (3.6054, 4.2177, 63.7648) [0.5779, 0.8401, 0.7680],\n",
       " PeriodicSite: Mn (1.1228, 3.7982, 62.3503) [0.0959, 0.7565, 0.7513],\n",
       " PeriodicSite: Mn (1.1413, 2.9625, 59.5860) [0.1279, 0.5901, 0.7180],\n",
       " PeriodicSite: Mn (3.6623, 2.5430, 58.2255) [0.6459, 0.5065, 0.7013],\n",
       " PeriodicSite: Mn (3.6808, 1.7073, 55.4612) [0.6779, 0.3401, 0.6680],\n",
       " PeriodicSite: Mn (1.1982, 1.2878, 54.0467) [0.1959, 0.2565, 0.6513],\n",
       " PeriodicSite: Mn (1.2168, 0.4521, 51.2825) [0.2279, 0.0901, 0.6180],\n",
       " PeriodicSite: Mn (3.7377, 0.0326, 49.9219) [0.7459, 0.0065, 0.6013],\n",
       " PeriodicSite: Mn (4.6061, 4.2177, 47.1843) [0.7779, 0.8401, 0.5680],\n",
       " PeriodicSite: Mn (2.1235, 3.7982, 45.7699) [0.2959, 0.7565, 0.5513],\n",
       " PeriodicSite: O (1.8773, 3.6060, 82.0292) [0.2532, 0.7182, 0.9884],\n",
       " PeriodicSite: O (0.1555, 0.1958, 79.8902) [0.0244, 0.0390, 0.9630],\n",
       " PeriodicSite: O (4.2116, 3.1399, 80.5744) [0.7355, 0.6254, 0.9706],\n",
       " PeriodicSite: O (5.1330, 1.1104, 82.9075) [0.9883, 0.2212, 0.9987],\n",
       " PeriodicSite: O (1.7215, 2.7993, 79.3590) [0.2493, 0.5575, 0.9563],\n",
       " PeriodicSite: O (2.4637, 0.6443, 81.3988) [0.4706, 0.1283, 0.9809],\n",
       " PeriodicSite: O (4.4168, 2.3508, 77.9044) [0.8032, 0.4682, 0.9384],\n",
       " PeriodicSite: O (3.5449, 3.9614, 75.7921) [0.5744, 0.7890, 0.9130],\n",
       " PeriodicSite: O (1.7475, 1.8847, 76.3957) [0.2855, 0.3754, 0.9206],\n",
       " PeriodicSite: O (3.5188, 4.8760, 78.7555) [0.5383, 0.9712, 0.9487],\n",
       " PeriodicSite: O (4.2610, 1.5441, 75.2342) [0.7993, 0.3075, 0.9063],\n",
       " PeriodicSite: O (0.8495, 4.4099, 77.2468) [0.0206, 0.8783, 0.9309],\n",
       " PeriodicSite: O (1.9527, 1.0956, 73.7256) [0.3532, 0.2182, 0.8884],\n",
       " PeriodicSite: O (1.0808, 2.7062, 71.6134) [0.1244, 0.5390, 0.8630],\n",
       " PeriodicSite: O (4.2870, 0.6295, 72.2708) [0.8355, 0.1254, 0.8706],\n",
       " PeriodicSite: O (1.0547, 3.6208, 74.5767) [0.0883, 0.7212, 0.8987],\n",
       " PeriodicSite: O (1.7969, 0.2889, 71.0554) [0.3493, 0.0575, 0.8563],\n",
       " PeriodicSite: O (3.3890, 3.1547, 73.1220) [0.5706, 0.6283, 0.8809],\n",
       " PeriodicSite: O (5.3421, 4.8612, 69.6275) [0.9032, 0.9682, 0.8384],\n",
       " PeriodicSite: O (3.6203, 1.4510, 67.4886) [0.6744, 0.2890, 0.8130],\n",
       " PeriodicSite: O (2.6728, 4.3951, 68.1188) [0.3855, 0.8754, 0.8206],\n",
       " PeriodicSite: O (3.5942, 2.3656, 70.4519) [0.6383, 0.4712, 0.8487],\n",
       " PeriodicSite: O (5.1863, 4.0545, 66.9573) [0.8993, 0.8075, 0.8063],\n",
       " PeriodicSite: O (0.9249, 1.8995, 68.9432) [0.1206, 0.3783, 0.8309],\n",
       " PeriodicSite: O (2.8780, 3.6060, 65.4488) [0.4532, 0.7182, 0.7884],\n",
       " PeriodicSite: O (1.1562, 0.1958, 63.3098) [0.2244, 0.0390, 0.7630],\n",
       " PeriodicSite: O (5.2123, 3.1399, 63.9940) [0.9355, 0.6254, 0.7706],\n",
       " PeriodicSite: O (1.1302, 1.1104, 66.2732) [0.1883, 0.2212, 0.7987],\n",
       " PeriodicSite: O (2.7222, 2.7993, 62.7786) [0.4493, 0.5575, 0.7563],\n",
       " PeriodicSite: O (3.4644, 0.6443, 64.8184) [0.6706, 0.1283, 0.7809],\n",
       " PeriodicSite: O (0.4139, 2.3508, 61.2700) [0.0032, 0.4682, 0.7384],\n",
       " PeriodicSite: O (4.5456, 3.9614, 59.2117) [0.7744, 0.7890, 0.7130],\n",
       " PeriodicSite: O (2.7482, 1.8847, 59.8152) [0.4855, 0.3754, 0.7206],\n",
       " PeriodicSite: O (4.5195, 4.8760, 62.1751) [0.7383, 0.9712, 0.7487],\n",
       " PeriodicSite: O (5.2617, 1.5441, 58.6538) [0.9993, 0.3075, 0.7063],\n",
       " PeriodicSite: O (1.8502, 4.4099, 60.6663) [0.2206, 0.8783, 0.7309],\n",
       " PeriodicSite: O (2.9534, 1.0956, 57.1452) [0.5532, 0.2182, 0.6884],\n",
       " PeriodicSite: O (2.0815, 2.7062, 55.0329) [0.3244, 0.5390, 0.6630],\n",
       " PeriodicSite: O (0.2841, 0.6295, 55.6365) [0.0355, 0.1254, 0.6706],\n",
       " PeriodicSite: O (2.0554, 3.6208, 57.9963) [0.2883, 0.7212, 0.6987],\n",
       " PeriodicSite: O (2.7976, 0.2889, 54.4750) [0.5493, 0.0575, 0.6563],\n",
       " PeriodicSite: O (4.3897, 3.1547, 56.5415) [0.7706, 0.6283, 0.6809],\n",
       " PeriodicSite: O (1.3392, 4.8612, 52.9932) [0.1032, 0.9682, 0.6384],\n",
       " PeriodicSite: O (4.6210, 1.4510, 50.9081) [0.8744, 0.2890, 0.6130],\n",
       " PeriodicSite: O (3.6735, 4.3951, 51.5384) [0.5855, 0.8754, 0.6206],\n",
       " PeriodicSite: O (4.5949, 2.3656, 53.8715) [0.8383, 0.4712, 0.6487],\n",
       " PeriodicSite: O (1.1834, 4.0545, 50.3230) [0.0993, 0.8075, 0.6063],\n",
       " PeriodicSite: O (1.9256, 1.8995, 52.3628) [0.3206, 0.3783, 0.6309],\n",
       " PeriodicSite: O (3.8787, 3.6060, 48.8683) [0.6532, 0.7182, 0.5884],\n",
       " PeriodicSite: O (2.1569, 0.1958, 46.7294) [0.4244, 0.0390, 0.5630],\n",
       " PeriodicSite: O (1.2094, 3.1399, 47.3596) [0.1355, 0.6254, 0.5706],\n",
       " PeriodicSite: O (2.1309, 1.1104, 49.6927) [0.3883, 0.2212, 0.5987],\n",
       " PeriodicSite: O (3.7229, 2.7993, 46.1981) [0.6493, 0.5575, 0.5563],\n",
       " PeriodicSite: O (4.4651, 0.6443, 48.2379) [0.8706, 0.1283, 0.5809],\n",
       " PeriodicSite: O (1.4147, 2.3508, 44.6896) [0.2032, 0.4682, 0.5384],\n",
       " PeriodicSite: O (3.7489, 1.8847, 43.2348) [0.6855, 0.3754, 0.5206],\n",
       " PeriodicSite: O (5.5202, 4.8760, 45.5946) [0.9383, 0.9712, 0.5487],\n",
       " PeriodicSite: O (2.8509, 4.4099, 44.0859) [0.4206, 0.8783, 0.5309]]"
      ]
     },
     "execution_count": 123,
     "metadata": {},
     "output_type": "execute_result"
    }
   ],
   "source": [
    "slab_copy = all_slabs_corrected_wyckoff[5].copy()\n",
    "slab_copy.sites"
   ]
  },
  {
   "cell_type": "code",
   "execution_count": 124,
   "metadata": {},
   "outputs": [],
   "source": [
    "for i in range(58, 110, 3):\n",
    "    slab_copy.replace(i, 'F')"
   ]
  },
  {
   "cell_type": "code",
   "execution_count": 317,
   "metadata": {},
   "outputs": [],
   "source": [
    "view_in_ovito(test_move_copy)"
   ]
  },
  {
   "cell_type": "code",
   "execution_count": 460,
   "metadata": {},
   "outputs": [],
   "source": [
    "#find amount of lithium excess\n",
    "def Li_excess(slab):\n",
    "    num_Li = len([site for site in slab.sites if str(site.specie) == 'Li+'])\n",
    "    num_O = len([site for site in slab.sites if str(site.specie) == 'O2-'])\n",
    "    num_Mn = len([site for site in slab.sites if str(site.specie) == 'Mn4+'])\n",
    "    return num_Li / (num_O / 3)"
   ]
  },
  {
   "cell_type": "code",
   "execution_count": 459,
   "metadata": {},
   "outputs": [],
   "source": [
    "def update_wyckoff(slab):\n",
    "    # remember that the wyckoff number assigner thing is messed up\n",
    "    four_h_sites = [site for site in slab.sites if str(site.wyckoff) == '4g']\n",
    "    two_b_sites = [site for site in slab.sites if str(site.wyckoff) == '2c']\n",
    "    two_c_sites = [site for site in slab.sites if str(site.wyckoff) == '2b']\n",
    "    return four_h_sites, two_b_sites, two_c_sites"
   ]
  },
  {
   "cell_type": "code",
   "execution_count": 458,
   "metadata": {},
   "outputs": [],
   "source": [
    "def remove_Li_site(slab, wyckoff, remembered_4h):\n",
    "    new_slab = slab.copy()\n",
    "    four_h_sites, two_b_sites, two_c_sites = update_wyckoff(new_slab)\n",
    "    if wyckoff == '4g':\n",
    "        site = four_h_sites[0]\n",
    "        remembered_4h.append(site)\n",
    "        new_slab.remove_sites([new_slab.sites.index(site)])\n",
    "    elif wyckoff == '2c':\n",
    "        site = two_b_sites[0]\n",
    "        new_slab.remove_sites([new_slab.sites.index(site)])\n",
    "    elif wyckoff == '2b':\n",
    "        site = two_c_sites[0]\n",
    "        new_slab.remove_sites([new_slab.sites.index(site)])\n",
    "    return new_slab, remembered_4h"
   ]
  },
  {
   "cell_type": "code",
   "execution_count": 509,
   "metadata": {},
   "outputs": [],
   "source": [
    "asdf = test_move_copy.copy()"
   ]
  },
  {
   "cell_type": "code",
   "execution_count": 513,
   "metadata": {},
   "outputs": [
    {
     "data": {
      "text/plain": [
       "[PeriodicSite: Li+ (1.2705, 0.6873, 7.6509) [0.3363, 0.0801, 0.4032],\n",
       " PeriodicSite: Li+ (-1.2701, 4.9791, 7.2327) [0.3363, 0.5801, 0.4032],\n",
       " PeriodicSite: Li+ (1.2705, 0.6873, 7.6509) [0.3363, 0.0801, 0.4032],\n",
       " PeriodicSite: Li+ (-1.2701, 4.9791, 7.2327) [0.3363, 0.5801, 0.4032],\n",
       " PeriodicSite: Li+ (1.1762, 3.6045, 7.2396) [0.6637, 0.4199, 0.4037],\n",
       " PeriodicSite: Li+ (-1.3645, 7.8963, 6.8215) [0.6637, 0.9199, 0.4037]]"
      ]
     },
     "execution_count": 513,
     "metadata": {},
     "output_type": "execute_result"
    }
   ],
   "source": [
    "remembered_4h"
   ]
  },
  {
   "cell_type": "code",
   "execution_count": 520,
   "metadata": {},
   "outputs": [],
   "source": [
    "def put_back_4h_site(slab, remembered_4h):\n",
    "    new_slab = slab.copy()\n",
    "    new_slab.sites.append(remembered_4h[0])\n",
    "    del remembered_4h[0]\n",
    "    return new_slab, remembered_4h\n",
    "    "
   ]
  },
  {
   "cell_type": "code",
   "execution_count": 521,
   "metadata": {},
   "outputs": [],
   "source": [
    "def remove_O_site(slab, oxygen):\n",
    "    new_slab = slab.copy()\n",
    "    new_slab.remove_sites([new_slab.sites.index(oxygen)])\n",
    "    return new_slab"
   ]
  },
  {
   "cell_type": "code",
   "execution_count": 522,
   "metadata": {},
   "outputs": [
    {
     "data": {
      "text/plain": [
       "\"\\nNotes\\n\\nworkflow:\\n    # for each slab do a structure optimization\\n    # remove an oxygen ion\\n        # remove lithium atoms one by one according to the rules of yongwoo's paper\\n        # run slab workflow/firework each time\\n        # calculate the oxygen release energy: E_O = E^slab_O-x' + dmu_O - E^slab\\n        # where E^slab_O-x' is x' oxygen deficient slab energy\\n        # dmu_O = mu_O - mu^*\\n        # mu^* is reference chemical potential --obtained by calibrating the formation \\n          enthalpies with experimental measurements of various oxides. References: (56, 57)--\\n        # E^slab_O-x' and  E^slab are total potential energies that vasp will give.\\n        # Repeat for a different removed oxygen and then average the energies\\n        \\nFrom Yongwoo's paper:\\n    \\n        # Removing Li\\n        --Specifically, some Li in the 4h sites are extracted in the early delithation process \\n        (1.75 < x < 2.0), some Li in the 4h and 2b sites are extracted for 1.5 < x < 1.75, and \\n        afterward, some 2b Li and all 2c Li are extracted for 1.25 < x < 1.5. Finally, all Li \\n        in the 2b sites are extracted in the range 1.0 < x < 1.25. At x = 1, the remaining Li \\n        are all occupying 4h sites in the Li layer.--\\n        --> take 4h Li until 1.75 is reached\\n        --> take 2b until 1.5\\n        --> take all 2c and then 2b until 1.25\\n        --> take all 2b until 1\\n        --> at this point all Li should be in 4h\\n        \\n        # Methods\\n        --Our slab model contained more than 10 bulk layers with fixed atomic coordinates taken\\n        from previous bulk examinations. The first five surface and subsurface layers are fully\\n        relaxed, and the slab is terminated by more than a 15 Å vacuum interval. The total\\n        energy results were calculated using density functional theory (DFT) as implemented \\n        by the Vienna ab inito simulation package (VASP)59−62 with the projector augmented \\n        wave (PAW)63,64 pseudopotential method. The exchange correlation functional is chosen \\n        as the generalized gradient approximation (GGA+U)65−67 with an on-site Hubbard parameter \\n        (UMn = 3.9 eV68). The calculations were converged within 1 meV, enabled by a cutoff \\n        energy of 520 eV with an adjusted k-point sampling density with respect to the size \\n        of supercells. The cell parameters of stoichiometric Li2MnO3 were downloaded from the \\n        Materials Project (IDLi2MnO3: mp-18988).68,69-- \\n        \""
      ]
     },
     "execution_count": 522,
     "metadata": {},
     "output_type": "execute_result"
    }
   ],
   "source": [
    "\"\"\"\n",
    "Notes\n",
    "\n",
    "workflow:\n",
    "    # for each slab do a structure optimization\n",
    "    # remove an oxygen ion\n",
    "        # remove lithium atoms one by one according to the rules of yongwoo's paper\n",
    "        # run slab workflow/firework each time\n",
    "        # calculate the oxygen release energy: E_O = E^slab_O-x' + dmu_O - E^slab\n",
    "        # where E^slab_O-x' is x' oxygen deficient slab energy\n",
    "        # dmu_O = mu_O - mu^*\n",
    "        # mu^* is reference chemical potential --obtained by calibrating the formation \n",
    "          enthalpies with experimental measurements of various oxides. References: (56, 57)--\n",
    "        # E^slab_O-x' and  E^slab are total potential energies that vasp will give.\n",
    "        # Repeat for a different removed oxygen and then average the energies\n",
    "        \n",
    "From Yongwoo's paper:\n",
    "    \n",
    "        # Removing Li\n",
    "        --Specifically, some Li in the 4h sites are extracted in the early delithation process \n",
    "        (1.75 < x < 2.0), some Li in the 4h and 2b sites are extracted for 1.5 < x < 1.75, and \n",
    "        afterward, some 2b Li and all 2c Li are extracted for 1.25 < x < 1.5. Finally, all Li \n",
    "        in the 2b sites are extracted in the range 1.0 < x < 1.25. At x = 1, the remaining Li \n",
    "        are all occupying 4h sites in the Li layer.--\n",
    "        --> take 4h Li until 1.75 is reached\n",
    "        --> take 2b until 1.5\n",
    "        --> take all 2c and then 2b until 1.25\n",
    "        --> take all 2b until 1\n",
    "        --> at this point all Li should be in 4h\n",
    "        \n",
    "        # Methods\n",
    "        --Our slab model contained more than 10 bulk layers with fixed atomic coordinates taken\n",
    "        from previous bulk examinations. The first five surface and subsurface layers are fully\n",
    "        relaxed, and the slab is terminated by more than a 15 Å vacuum interval. The total\n",
    "        energy results were calculated using density functional theory (DFT) as implemented \n",
    "        by the Vienna ab inito simulation package (VASP)59−62 with the projector augmented \n",
    "        wave (PAW)63,64 pseudopotential method. The exchange correlation functional is chosen \n",
    "        as the generalized gradient approximation (GGA+U)65−67 with an on-site Hubbard parameter \n",
    "        (UMn = 3.9 eV68). The calculations were converged within 1 meV, enabled by a cutoff \n",
    "        energy of 520 eV with an adjusted k-point sampling density with respect to the size \n",
    "        of supercells. The cell parameters of stoichiometric Li2MnO3 were downloaded from the \n",
    "        Materials Project (IDLi2MnO3: mp-18988).68,69-- \n",
    "        \"\"\""
   ]
  },
  {
   "cell_type": "code",
   "execution_count": 318,
   "metadata": {},
   "outputs": [],
   "source": [
    "new = test_move_copy.copy()"
   ]
  },
  {
   "cell_type": "code",
   "execution_count": 338,
   "metadata": {},
   "outputs": [
    {
     "ename": "IndexError",
     "evalue": "list index out of range",
     "output_type": "error",
     "traceback": [
      "\u001b[0;31m---------------------------------------------------------------------------\u001b[0m",
      "\u001b[0;31mIndexError\u001b[0m                                Traceback (most recent call last)",
      "\u001b[0;32m<ipython-input-338-d4a9f0a28d90>\u001b[0m in \u001b[0;36m<module>\u001b[0;34m\u001b[0m\n\u001b[1;32m      1\u001b[0m \u001b[0mremembered_4h\u001b[0m \u001b[0;34m=\u001b[0m \u001b[0;34m[\u001b[0m\u001b[0;34m]\u001b[0m\u001b[0;34m\u001b[0m\u001b[0;34m\u001b[0m\u001b[0m\n\u001b[0;32m----> 2\u001b[0;31m \u001b[0mnew\u001b[0m \u001b[0;34m=\u001b[0m \u001b[0mremove_Li_site\u001b[0m\u001b[0;34m(\u001b[0m\u001b[0mnew\u001b[0m\u001b[0;34m,\u001b[0m \u001b[0;34m'4g'\u001b[0m\u001b[0;34m,\u001b[0m \u001b[0mremembered_4h\u001b[0m\u001b[0;34m)\u001b[0m\u001b[0;34m\u001b[0m\u001b[0;34m\u001b[0m\u001b[0m\n\u001b[0m\u001b[1;32m      3\u001b[0m \u001b[0mprint\u001b[0m\u001b[0;34m(\u001b[0m\u001b[0mLi_excess\u001b[0m\u001b[0;34m(\u001b[0m\u001b[0mnew\u001b[0m\u001b[0;34m)\u001b[0m\u001b[0;34m)\u001b[0m\u001b[0;34m\u001b[0m\u001b[0;34m\u001b[0m\u001b[0m\n\u001b[1;32m      4\u001b[0m \u001b[0mprint\u001b[0m\u001b[0;34m(\u001b[0m\u001b[0mlen\u001b[0m\u001b[0;34m(\u001b[0m\u001b[0;34m[\u001b[0m\u001b[0msite\u001b[0m \u001b[0;32mfor\u001b[0m \u001b[0msite\u001b[0m \u001b[0;32min\u001b[0m \u001b[0mnew\u001b[0m\u001b[0;34m.\u001b[0m\u001b[0msites\u001b[0m \u001b[0;32mif\u001b[0m \u001b[0mstr\u001b[0m\u001b[0;34m(\u001b[0m\u001b[0msite\u001b[0m\u001b[0;34m.\u001b[0m\u001b[0mwyckoff\u001b[0m\u001b[0;34m)\u001b[0m \u001b[0;34m==\u001b[0m \u001b[0;34m'4h'\u001b[0m\u001b[0;34m]\u001b[0m\u001b[0;34m)\u001b[0m\u001b[0;34m)\u001b[0m\u001b[0;34m\u001b[0m\u001b[0;34m\u001b[0m\u001b[0m\n\u001b[1;32m      5\u001b[0m \u001b[0mprint\u001b[0m\u001b[0;34m(\u001b[0m\u001b[0mlen\u001b[0m\u001b[0;34m(\u001b[0m\u001b[0;34m[\u001b[0m\u001b[0msite\u001b[0m \u001b[0;32mfor\u001b[0m \u001b[0msite\u001b[0m \u001b[0;32min\u001b[0m \u001b[0mnew\u001b[0m\u001b[0;34m.\u001b[0m\u001b[0msites\u001b[0m \u001b[0;32mif\u001b[0m \u001b[0mstr\u001b[0m\u001b[0;34m(\u001b[0m\u001b[0msite\u001b[0m\u001b[0;34m.\u001b[0m\u001b[0mwyckoff\u001b[0m\u001b[0;34m)\u001b[0m \u001b[0;34m==\u001b[0m \u001b[0;34m'2b'\u001b[0m\u001b[0;34m]\u001b[0m\u001b[0;34m)\u001b[0m\u001b[0;34m)\u001b[0m\u001b[0;34m\u001b[0m\u001b[0;34m\u001b[0m\u001b[0m\n",
      "\u001b[0;32m<ipython-input-315-667eef8c31c3>\u001b[0m in \u001b[0;36mremove_Li_site\u001b[0;34m(slab, wyckoff, remembered_4h)\u001b[0m\n\u001b[1;32m      3\u001b[0m     \u001b[0mfour_h_sites\u001b[0m\u001b[0;34m,\u001b[0m \u001b[0mtwo_b_sites\u001b[0m\u001b[0;34m,\u001b[0m \u001b[0mtwo_c_sites\u001b[0m \u001b[0;34m=\u001b[0m \u001b[0mupdate_wyckoff\u001b[0m\u001b[0;34m(\u001b[0m\u001b[0mnew_slab\u001b[0m\u001b[0;34m)\u001b[0m\u001b[0;34m\u001b[0m\u001b[0;34m\u001b[0m\u001b[0m\n\u001b[1;32m      4\u001b[0m     \u001b[0;32mif\u001b[0m \u001b[0mwyckoff\u001b[0m \u001b[0;34m==\u001b[0m \u001b[0;34m'4g'\u001b[0m\u001b[0;34m:\u001b[0m\u001b[0;34m\u001b[0m\u001b[0;34m\u001b[0m\u001b[0m\n\u001b[0;32m----> 5\u001b[0;31m         \u001b[0msite\u001b[0m \u001b[0;34m=\u001b[0m \u001b[0mfour_h_sites\u001b[0m\u001b[0;34m[\u001b[0m\u001b[0;36m0\u001b[0m\u001b[0;34m]\u001b[0m\u001b[0;34m\u001b[0m\u001b[0;34m\u001b[0m\u001b[0m\n\u001b[0m\u001b[1;32m      6\u001b[0m         \u001b[0mremembered_4h\u001b[0m\u001b[0;34m.\u001b[0m\u001b[0mappend\u001b[0m\u001b[0;34m(\u001b[0m\u001b[0msite\u001b[0m\u001b[0;34m)\u001b[0m\u001b[0;34m\u001b[0m\u001b[0;34m\u001b[0m\u001b[0m\n\u001b[1;32m      7\u001b[0m         \u001b[0mnew_slab\u001b[0m\u001b[0;34m.\u001b[0m\u001b[0mremove_sites\u001b[0m\u001b[0;34m(\u001b[0m\u001b[0;34m[\u001b[0m\u001b[0mnew_slab\u001b[0m\u001b[0;34m.\u001b[0m\u001b[0msites\u001b[0m\u001b[0;34m.\u001b[0m\u001b[0mindex\u001b[0m\u001b[0;34m(\u001b[0m\u001b[0msite\u001b[0m\u001b[0;34m)\u001b[0m\u001b[0;34m]\u001b[0m\u001b[0;34m)\u001b[0m\u001b[0;34m\u001b[0m\u001b[0;34m\u001b[0m\u001b[0m\n",
      "\u001b[0;31mIndexError\u001b[0m: list index out of range"
     ]
    }
   ],
   "source": [
    "remembered_4h = []\n",
    "new = remove_Li_site(new, '4g', remembered_4h)\n",
    "print(Li_excess(new))\n",
    "print(len([site for site in new.sites if str(site.wyckoff) == '4h']))\n",
    "print(len([site for site in new.sites if str(site.wyckoff) == '2b']))\n",
    "print(len([site for site in new.sites if str(site.wyckoff) == '2c']))"
   ]
  },
  {
   "cell_type": "code",
   "execution_count": 339,
   "metadata": {},
   "outputs": [],
   "source": [
    "view_in_ovito(new)"
   ]
  },
  {
   "cell_type": "code",
   "execution_count": null,
   "metadata": {
    "collapsed": true
   },
   "outputs": [],
   "source": [
    "from atomate.vasp.workflows.base.adsorption import get_slab_fw\n",
    "\n",
    "def o_evol_energy_wf(slab, vasp_cmd=\">>vasp_std<<\", db_file=\">>db_file<<\"):\n",
    "    \"\"\"\n",
    "    Returns surface oxygen evolution workflow.\n",
    "    Args:\n",
    "        Slab (Slab): input Slab.\n",
    "        vasp_cmd (str): vasp command to run.\n",
    "        db_file (str): path to the db file.\n",
    "        \n",
    "    Returns:\n",
    "        Workflow\n",
    "    \"\"\"\n",
    "    tag = datetime.utcnow().strftime('%Y-%m-%d-%H-%M-%S-%f') + 'miller:' +              \\\n",
    "        str(slab.miller_index) + 'shift:' + str(slab.shift) + '_original'\n",
    "        \n",
    "    # Slab firework to get info on unmodified slab\n",
    "    fws = [get_slab_fw(slab, vasp_cmd=vasp_cmd, db_file=db_file, \n",
    "                       name=\"{} slab optimization\".format(tag))]\n",
    "    \n",
    "    \n",
    "    # Remove an oxygen atom and get energy (Li = 2.0)\n",
    "    for O_site in surface_oxygen:\n",
    "        remembered_4h = []\n",
    "        slab_copy = slab.copy()\n",
    "        current_slab = remove_O_site(slab, O_site)\n",
    "        \n",
    "        tag = datetime.utcnow().strftime('%Y-%m-%d-%H-%M-%S-%f') + 'miller:' +   \\\n",
    "            str(slab.miller_index) + 'shift:' + str(slab.shift) + 'Li:' +             \\\n",
    "            str(Li_excess(current_slab)) + 'O_' + surface_oxygen.index(O_site)\n",
    "        #slab firework to get energy at Li = 2\n",
    "        fw = get_slab_fw(slab, vasp_cmd=vasp_cmd, db_file=db_file, \n",
    "                         name=\"{} slab optimization\".format(tag))\n",
    "        fws.append(fw)\n",
    "    \n",
    "        #remove some Li until Li = 1.5\n",
    "        while Li_excess(current_slab) >= 1.75:\n",
    "            current_slab = remove_Li_site(current_slab, '4g')\n",
    "        while Li_excess(current_slab) >= 1.5:\n",
    "            current_slab = remove_Li_site(current_slab, '2c')\n",
    "        \n",
    "        # slab firework to get energy at Li = 1.5\n",
    "        tag = datetime.utcnow().strftime('%Y-%m-%d-%H-%M-%S-%f') + 'miller:' +   \\\n",
    "            str(slab.miller_index) + 'shift:' + str(slab.shift) + 'Li:' +             \\\n",
    "            str(Li_excess(current_slab)) + 'O_' + surface_oxygen.index(O_site)\n",
    "            \n",
    "        while Li_excess(current_slab) >= 1.25\n",
    "        current_slab = remove_Li_site(current_slab, '2b')\n",
    "        current_slab, remembered_4h = put_back_4h_site(current_slab, remembered_4h)\n",
    "            \n",
    "        tag = datetime.utcnow().strftime('%Y-%m-%d-%H-%M-%S-%f') + 'miller:' +   \\\n",
    "            str(slab.miller_index) + 'shift:' + str(slab.shift) + 'Li:' +             \\\n",
    "            str(Li_excess(current_slab)) + 'O_' + surface_oxygen.index(O_site)\n",
    "        \n",
    "        # slab firework to get energy at Li = 1.0\n",
    "        fw = get_slab_fw(slab, vasp_cmd=vasp_cmd, db_file=db_file, \n",
    "                         name=\"{} slab optimization\".format(tag))\n",
    "        fws.append(fw)\n",
    "        \n",
    "        #remove Li until Li = 1.0\n",
    "        while Li_excess(current_slab) >= 1.25"
   ]
  }
 ],
 "metadata": {
  "kernelspec": {
   "display_name": "Python 3",
   "language": "python",
   "name": "python3"
  },
  "language_info": {
   "codemirror_mode": {
    "name": "ipython",
    "version": 3
   },
   "file_extension": ".py",
   "mimetype": "text/x-python",
   "name": "python",
   "nbconvert_exporter": "python",
   "pygments_lexer": "ipython3",
   "version": "3.7.2"
  }
 },
 "nbformat": 4,
 "nbformat_minor": 2
}
